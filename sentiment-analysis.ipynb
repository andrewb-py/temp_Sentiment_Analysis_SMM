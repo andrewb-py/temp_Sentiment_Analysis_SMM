{
 "cells": [
  {
   "metadata": {},
   "cell_type": "markdown",
   "source": "# Сентимент-анализ текстов на русском языке",
   "id": "9149305444b6d95a"
  },
  {
   "metadata": {
    "ExecuteTime": {
     "end_time": "2024-10-18T00:16:52.533784Z",
     "start_time": "2024-10-18T00:16:51.897219Z"
    }
   },
   "cell_type": "code",
   "source": [
    "import pandas as pd\n",
    "import numpy as np\n",
    "\n",
    "from sklearn.model_selection import GridSearchCV\n",
    "\n",
    "import nltk\n",
    "from sklearn.feature_extraction.text import TfidfVectorizer\n",
    "#TODO word2vec and fasttext import\n",
    "#TODO mb Bert/RuBert import\n",
    "\n",
    "from sklearn.linear_model import LogisticRegression\n",
    "from sklearn.naive_bayes import GaussianNB\n",
    "from sklearn.tree import DecisionTreeClassifier\n",
    "from sklearn.svm import SVC # TODO подумать над опорными векторами\n",
    "from sklearn.ensemble import RandomForestClassifier\n",
    "\n",
    "from sklearn.metrics import f1_score, accuracy_score, recall_score, precision_score, confusion_matrix"
   ],
   "id": "a53744593cdba528",
   "outputs": [],
   "execution_count": 1
  },
  {
   "metadata": {},
   "cell_type": "markdown",
   "source": "Загрузка тренировочных и тестовых данных",
   "id": "d8f7b2298def434"
  },
  {
   "metadata": {
    "ExecuteTime": {
     "end_time": "2024-10-18T00:17:15.571409Z",
     "start_time": "2024-10-18T00:16:52.536778Z"
    }
   },
   "cell_type": "code",
   "source": [
    "train_data = pd.read_csv(\"hf://datasets/MonoHime/ru_sentiment_dataset@a66a66ee3a858c2b59e056b3fb7dfaf501fc5425/train.csv\")\n",
    "test_data = pd.read_csv(\"hf://datasets/MonoHime/ru_sentiment_dataset@a66a66ee3a858c2b59e056b3fb7dfaf501fc5425/valid.csv\")"
   ],
   "id": "6a8c4c25b144d1f2",
   "outputs": [],
   "execution_count": 2
  },
  {
   "metadata": {},
   "cell_type": "markdown",
   "source": "Посмотрим на данные",
   "id": "6f916a4c025ac138"
  },
  {
   "metadata": {
    "ExecuteTime": {
     "end_time": "2024-10-18T00:17:15.595570Z",
     "start_time": "2024-10-18T00:17:15.573402Z"
    }
   },
   "cell_type": "code",
   "source": "train_data.head(5)",
   "id": "d202aafa891f2ffc",
   "outputs": [
    {
     "data": {
      "text/plain": [
       "   Unnamed: 0                                               text  sentiment\n",
       "0       21098  .с.,и спросил его:  о Посланник Аллаха!Ты пори...          1\n",
       "1       21099  Роднее всех родных Попала я в ГКБ №8 еще в дек...          1\n",
       "2       21100  Непорядочное отношение к своим работникам Рабо...          2\n",
       "3       21101  ). Отсутствуют нормативы, Госты и прочее, что ...          1\n",
       "4       21102             У меня машина в руках 5 лет и это п...          1"
      ],
      "text/html": [
       "<div>\n",
       "<style scoped>\n",
       "    .dataframe tbody tr th:only-of-type {\n",
       "        vertical-align: middle;\n",
       "    }\n",
       "\n",
       "    .dataframe tbody tr th {\n",
       "        vertical-align: top;\n",
       "    }\n",
       "\n",
       "    .dataframe thead th {\n",
       "        text-align: right;\n",
       "    }\n",
       "</style>\n",
       "<table border=\"1\" class=\"dataframe\">\n",
       "  <thead>\n",
       "    <tr style=\"text-align: right;\">\n",
       "      <th></th>\n",
       "      <th>Unnamed: 0</th>\n",
       "      <th>text</th>\n",
       "      <th>sentiment</th>\n",
       "    </tr>\n",
       "  </thead>\n",
       "  <tbody>\n",
       "    <tr>\n",
       "      <th>0</th>\n",
       "      <td>21098</td>\n",
       "      <td>.с.,и спросил его:  о Посланник Аллаха!Ты пори...</td>\n",
       "      <td>1</td>\n",
       "    </tr>\n",
       "    <tr>\n",
       "      <th>1</th>\n",
       "      <td>21099</td>\n",
       "      <td>Роднее всех родных Попала я в ГКБ №8 еще в дек...</td>\n",
       "      <td>1</td>\n",
       "    </tr>\n",
       "    <tr>\n",
       "      <th>2</th>\n",
       "      <td>21100</td>\n",
       "      <td>Непорядочное отношение к своим работникам Рабо...</td>\n",
       "      <td>2</td>\n",
       "    </tr>\n",
       "    <tr>\n",
       "      <th>3</th>\n",
       "      <td>21101</td>\n",
       "      <td>). Отсутствуют нормативы, Госты и прочее, что ...</td>\n",
       "      <td>1</td>\n",
       "    </tr>\n",
       "    <tr>\n",
       "      <th>4</th>\n",
       "      <td>21102</td>\n",
       "      <td>У меня машина в руках 5 лет и это п...</td>\n",
       "      <td>1</td>\n",
       "    </tr>\n",
       "  </tbody>\n",
       "</table>\n",
       "</div>"
      ]
     },
     "execution_count": 3,
     "metadata": {},
     "output_type": "execute_result"
    }
   ],
   "execution_count": 3
  },
  {
   "metadata": {},
   "cell_type": "markdown",
   "source": [
    "0 - нейтральный, 1 - позитивный, 2 - негативный.  \n",
    "Можно отбросить признак Unnamed: 0"
   ],
   "id": "f06edd57542251bd"
  },
  {
   "metadata": {
    "ExecuteTime": {
     "end_time": "2024-10-18T00:20:26.860162Z",
     "start_time": "2024-10-18T00:20:26.821929Z"
    }
   },
   "cell_type": "code",
   "source": "data = train_data.drop(columns=[\"Unnamed: 0\"])",
   "id": "f47608d3c70ade4f",
   "outputs": [],
   "execution_count": 7
  },
  {
   "metadata": {
    "ExecuteTime": {
     "end_time": "2024-10-18T00:20:28.402806Z",
     "start_time": "2024-10-18T00:20:28.382790Z"
    }
   },
   "cell_type": "code",
   "source": "data.describe()",
   "id": "44e4eaf4bca6b3b5",
   "outputs": [
    {
     "data": {
      "text/plain": [
       "          sentiment\n",
       "count  189891.00000\n",
       "mean        1.00248\n",
       "std         0.72250\n",
       "min         0.00000\n",
       "25%         0.00000\n",
       "50%         1.00000\n",
       "75%         2.00000\n",
       "max         2.00000"
      ],
      "text/html": [
       "<div>\n",
       "<style scoped>\n",
       "    .dataframe tbody tr th:only-of-type {\n",
       "        vertical-align: middle;\n",
       "    }\n",
       "\n",
       "    .dataframe tbody tr th {\n",
       "        vertical-align: top;\n",
       "    }\n",
       "\n",
       "    .dataframe thead th {\n",
       "        text-align: right;\n",
       "    }\n",
       "</style>\n",
       "<table border=\"1\" class=\"dataframe\">\n",
       "  <thead>\n",
       "    <tr style=\"text-align: right;\">\n",
       "      <th></th>\n",
       "      <th>sentiment</th>\n",
       "    </tr>\n",
       "  </thead>\n",
       "  <tbody>\n",
       "    <tr>\n",
       "      <th>count</th>\n",
       "      <td>189891.00000</td>\n",
       "    </tr>\n",
       "    <tr>\n",
       "      <th>mean</th>\n",
       "      <td>1.00248</td>\n",
       "    </tr>\n",
       "    <tr>\n",
       "      <th>std</th>\n",
       "      <td>0.72250</td>\n",
       "    </tr>\n",
       "    <tr>\n",
       "      <th>min</th>\n",
       "      <td>0.00000</td>\n",
       "    </tr>\n",
       "    <tr>\n",
       "      <th>25%</th>\n",
       "      <td>0.00000</td>\n",
       "    </tr>\n",
       "    <tr>\n",
       "      <th>50%</th>\n",
       "      <td>1.00000</td>\n",
       "    </tr>\n",
       "    <tr>\n",
       "      <th>75%</th>\n",
       "      <td>2.00000</td>\n",
       "    </tr>\n",
       "    <tr>\n",
       "      <th>max</th>\n",
       "      <td>2.00000</td>\n",
       "    </tr>\n",
       "  </tbody>\n",
       "</table>\n",
       "</div>"
      ]
     },
     "execution_count": 8,
     "metadata": {},
     "output_type": "execute_result"
    }
   ],
   "execution_count": 8
  },
  {
   "metadata": {
    "ExecuteTime": {
     "end_time": "2024-10-18T00:23:14.170778Z",
     "start_time": "2024-10-18T00:23:12.710765Z"
    }
   },
   "cell_type": "code",
   "source": "data.nunique()",
   "id": "a4694c08a16c03ab",
   "outputs": [
    {
     "data": {
      "text/plain": [
       "text         181103\n",
       "sentiment         3\n",
       "dtype: int64"
      ]
     },
     "execution_count": 11,
     "metadata": {},
     "output_type": "execute_result"
    }
   ],
   "execution_count": 11
  },
  {
   "metadata": {
    "ExecuteTime": {
     "end_time": "2024-10-18T00:23:51.143646Z",
     "start_time": "2024-10-18T00:23:51.098641Z"
    }
   },
   "cell_type": "code",
   "source": "data.isnull().sum()",
   "id": "c3f3ed3b6c1b1e78",
   "outputs": [
    {
     "data": {
      "text/plain": [
       "text         0\n",
       "sentiment    0\n",
       "dtype: int64"
      ]
     },
     "execution_count": 12,
     "metadata": {},
     "output_type": "execute_result"
    }
   ],
   "execution_count": 12
  },
  {
   "metadata": {},
   "cell_type": "markdown",
   "source": "Видим - пропусков нет. Займемся предобработкой",
   "id": "41790789829b475a"
  },
  {
   "metadata": {},
   "cell_type": "code",
   "outputs": [],
   "execution_count": null,
   "source": "",
   "id": "19c3f4b7356f0293"
  }
 ],
 "metadata": {
  "kernelspec": {
   "display_name": "Python 3",
   "language": "python",
   "name": "python3"
  },
  "language_info": {
   "codemirror_mode": {
    "name": "ipython",
    "version": 2
   },
   "file_extension": ".py",
   "mimetype": "text/x-python",
   "name": "python",
   "nbconvert_exporter": "python",
   "pygments_lexer": "ipython2",
   "version": "2.7.6"
  }
 },
 "nbformat": 4,
 "nbformat_minor": 5
}
