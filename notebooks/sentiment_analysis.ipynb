{
 "cells": [
  {
   "metadata": {},
   "cell_type": "markdown",
   "source": "# Сентимент-анализ текстов на русском языке",
   "id": "9149305444b6d95a"
  },
  {
   "metadata": {},
   "cell_type": "markdown",
   "source": [
    "## Основные этапы\n",
    "1. [Предобработка](#предобработка)  \n",
    "\n",
    "2. [Машинное обучение](#машинное-обучение)  \n",
    "\n",
    "    2.1 [Тестирование различных моделей c BOW и tf-idf](#тестирование-различных-моделей-c-bow-и-tf-idf)  \n",
    "    - [Логистическая регрессия](#логистическая-регрессия)  \n",
    "    - [Наивный байесовский классификатор](#наивный-байесовский-классификатор)  \n",
    "    - [Метод K-ближайших соседей](#метод-k-ближайших-соседей)  \n",
    "    - [Решающее дерево](#решающее-дерево)  \n",
    "    - [Градиентный бустинг](#градиентный-бустинг)  \n",
    "\n",
    "    2.2 [Тестирование различных моделей с word2vec](#тестирование-различных-моделей-с-word2vec)\n",
    "    - [Логистическая регрессия](#логистическая-регрессия-1)\n",
    "    - [Градиентный бустинг](#градиентный-бустинг-1)"
   ],
   "id": "2de44dc90a658adb"
  },
  {
   "metadata": {},
   "cell_type": "markdown",
   "source": [
    "Если надо запустить код, то стоит скачать папку data и положить в папку проекта  \n",
    "Ссылка: https://drive.google.com/drive/folders/1A69dyu6-qFTtwLl0wiF3J7W6dF6zhJMi?usp=sharing"
   ],
   "id": "b8a3a53c69c985ae"
  },
  {
   "metadata": {
    "ExecuteTime": {
     "end_time": "2024-10-24T08:11:02.971774Z",
     "start_time": "2024-10-24T08:10:58.637410Z"
    }
   },
   "cell_type": "code",
   "source": [
    "import os\n",
    "import logging\n",
    "from tqdm.notebook import tqdm\n",
    "from joblib import dump, load\n",
    "\n",
    "import pandas as pd\n",
    "import numpy as np\n",
    "\n",
    "import nltk\n",
    "from pymorphy3 import MorphAnalyzer\n",
    "from nltk.corpus import stopwords\n",
    "import re\n",
    "\n",
    "from sklearn.feature_extraction.text import TfidfVectorizer, CountVectorizer\n",
    "from gensim.models import Word2Vec\n",
    "\n",
    "from sklearn.linear_model import LogisticRegression\n",
    "from sklearn.naive_bayes import MultinomialNB\n",
    "from sklearn.neighbors import KNeighborsClassifier\n",
    "from sklearn.tree import DecisionTreeClassifier\n",
    "from sklearn.ensemble import RandomForestClassifier\n",
    "from xgboost import XGBClassifier\n",
    "\n",
    "import optuna\n",
    "from optuna.samplers import TPESampler\n",
    "from optuna.pruners import HyperbandPruner\n",
    "from sklearn.model_selection import cross_val_score\n",
    "from sklearn.utils.class_weight import compute_class_weight\n",
    "\n",
    "from sklearn.metrics import precision_score, recall_score, f1_score, accuracy_score"
   ],
   "id": "a53744593cdba528",
   "outputs": [],
   "execution_count": 1
  },
  {
   "metadata": {},
   "cell_type": "markdown",
   "source": [
    "Запуск скрипта для загрузки тренировочных и тестовых данных (можно не комментировать, в случае \n",
    "если данные уже загружены - это учитывается) и загрузка данных в датафреймы"
   ],
   "id": "d8f7b2298def434"
  },
  {
   "metadata": {
    "ExecuteTime": {
     "end_time": "2024-10-24T08:11:08.689678Z",
     "start_time": "2024-10-24T08:11:02.971774Z"
    }
   },
   "cell_type": "code",
   "source": [
    "current_dir = os.getcwd()\n",
    "project_dir = os.path.abspath(os.path.join(current_dir, '..'))\n",
    "\n",
    "data_load_script_path = os.path.join(project_dir, \"scripts\\\\data_load.py\")\n",
    "!python {data_load_script_path}\n",
    "\n",
    "data_dir = os.path.join(project_dir, 'data')\n",
    "\n",
    "train = pd.read_csv(os.path.join(data_dir, 'train.csv'))\n",
    "test = pd.read_csv(os.path.join(data_dir, 'test.csv'))"
   ],
   "id": "f1db96b657f2dc49",
   "outputs": [],
   "execution_count": 2
  },
  {
   "metadata": {},
   "cell_type": "markdown",
   "source": "Посмотрим на данные",
   "id": "6f916a4c025ac138"
  },
  {
   "metadata": {
    "ExecuteTime": {
     "end_time": "2024-10-24T08:11:08.736556Z",
     "start_time": "2024-10-24T08:11:08.689678Z"
    }
   },
   "cell_type": "code",
   "source": "train.head(5)",
   "id": "d202aafa891f2ffc",
   "outputs": [
    {
     "data": {
      "text/plain": [
       "   Unnamed: 0                                               text  sentiment\n",
       "0       21098  .с.,и спросил его:  о Посланник Аллаха!Ты пори...          1\n",
       "1       21099  Роднее всех родных Попала я в ГКБ №8 еще в дек...          1\n",
       "2       21100  Непорядочное отношение к своим работникам Рабо...          2\n",
       "3       21101  ). Отсутствуют нормативы, Госты и прочее, что ...          1\n",
       "4       21102             У меня машина в руках 5 лет и это п...          1"
      ],
      "text/html": [
       "<div>\n",
       "<style scoped>\n",
       "    .dataframe tbody tr th:only-of-type {\n",
       "        vertical-align: middle;\n",
       "    }\n",
       "\n",
       "    .dataframe tbody tr th {\n",
       "        vertical-align: top;\n",
       "    }\n",
       "\n",
       "    .dataframe thead th {\n",
       "        text-align: right;\n",
       "    }\n",
       "</style>\n",
       "<table border=\"1\" class=\"dataframe\">\n",
       "  <thead>\n",
       "    <tr style=\"text-align: right;\">\n",
       "      <th></th>\n",
       "      <th>Unnamed: 0</th>\n",
       "      <th>text</th>\n",
       "      <th>sentiment</th>\n",
       "    </tr>\n",
       "  </thead>\n",
       "  <tbody>\n",
       "    <tr>\n",
       "      <th>0</th>\n",
       "      <td>21098</td>\n",
       "      <td>.с.,и спросил его:  о Посланник Аллаха!Ты пори...</td>\n",
       "      <td>1</td>\n",
       "    </tr>\n",
       "    <tr>\n",
       "      <th>1</th>\n",
       "      <td>21099</td>\n",
       "      <td>Роднее всех родных Попала я в ГКБ №8 еще в дек...</td>\n",
       "      <td>1</td>\n",
       "    </tr>\n",
       "    <tr>\n",
       "      <th>2</th>\n",
       "      <td>21100</td>\n",
       "      <td>Непорядочное отношение к своим работникам Рабо...</td>\n",
       "      <td>2</td>\n",
       "    </tr>\n",
       "    <tr>\n",
       "      <th>3</th>\n",
       "      <td>21101</td>\n",
       "      <td>). Отсутствуют нормативы, Госты и прочее, что ...</td>\n",
       "      <td>1</td>\n",
       "    </tr>\n",
       "    <tr>\n",
       "      <th>4</th>\n",
       "      <td>21102</td>\n",
       "      <td>У меня машина в руках 5 лет и это п...</td>\n",
       "      <td>1</td>\n",
       "    </tr>\n",
       "  </tbody>\n",
       "</table>\n",
       "</div>"
      ]
     },
     "execution_count": 3,
     "metadata": {},
     "output_type": "execute_result"
    }
   ],
   "execution_count": 3
  },
  {
   "metadata": {},
   "cell_type": "markdown",
   "source": [
    "0 - нейтральный, 1 - позитивный, 2 - негативный.  \n",
    "Можно отбросить признак Unnamed: 0"
   ],
   "id": "f06edd57542251bd"
  },
  {
   "metadata": {
    "ExecuteTime": {
     "end_time": "2024-10-24T08:11:08.767801Z",
     "start_time": "2024-10-24T08:11:08.736556Z"
    }
   },
   "cell_type": "code",
   "source": [
    "train.drop(columns=[\"Unnamed: 0\"], inplace=True)\n",
    "test.drop(columns=[\"Unnamed: 0\"], inplace=True)"
   ],
   "id": "f47608d3c70ade4f",
   "outputs": [],
   "execution_count": 4
  },
  {
   "metadata": {
    "ExecuteTime": {
     "end_time": "2024-10-24T08:11:08.799052Z",
     "start_time": "2024-10-24T08:11:08.767801Z"
    }
   },
   "cell_type": "code",
   "source": "train.describe()",
   "id": "44e4eaf4bca6b3b5",
   "outputs": [
    {
     "data": {
      "text/plain": [
       "          sentiment\n",
       "count  189891.00000\n",
       "mean        1.00248\n",
       "std         0.72250\n",
       "min         0.00000\n",
       "25%         0.00000\n",
       "50%         1.00000\n",
       "75%         2.00000\n",
       "max         2.00000"
      ],
      "text/html": [
       "<div>\n",
       "<style scoped>\n",
       "    .dataframe tbody tr th:only-of-type {\n",
       "        vertical-align: middle;\n",
       "    }\n",
       "\n",
       "    .dataframe tbody tr th {\n",
       "        vertical-align: top;\n",
       "    }\n",
       "\n",
       "    .dataframe thead th {\n",
       "        text-align: right;\n",
       "    }\n",
       "</style>\n",
       "<table border=\"1\" class=\"dataframe\">\n",
       "  <thead>\n",
       "    <tr style=\"text-align: right;\">\n",
       "      <th></th>\n",
       "      <th>sentiment</th>\n",
       "    </tr>\n",
       "  </thead>\n",
       "  <tbody>\n",
       "    <tr>\n",
       "      <th>count</th>\n",
       "      <td>189891.00000</td>\n",
       "    </tr>\n",
       "    <tr>\n",
       "      <th>mean</th>\n",
       "      <td>1.00248</td>\n",
       "    </tr>\n",
       "    <tr>\n",
       "      <th>std</th>\n",
       "      <td>0.72250</td>\n",
       "    </tr>\n",
       "    <tr>\n",
       "      <th>min</th>\n",
       "      <td>0.00000</td>\n",
       "    </tr>\n",
       "    <tr>\n",
       "      <th>25%</th>\n",
       "      <td>0.00000</td>\n",
       "    </tr>\n",
       "    <tr>\n",
       "      <th>50%</th>\n",
       "      <td>1.00000</td>\n",
       "    </tr>\n",
       "    <tr>\n",
       "      <th>75%</th>\n",
       "      <td>2.00000</td>\n",
       "    </tr>\n",
       "    <tr>\n",
       "      <th>max</th>\n",
       "      <td>2.00000</td>\n",
       "    </tr>\n",
       "  </tbody>\n",
       "</table>\n",
       "</div>"
      ]
     },
     "execution_count": 5,
     "metadata": {},
     "output_type": "execute_result"
    }
   ],
   "execution_count": 5
  },
  {
   "metadata": {
    "ExecuteTime": {
     "end_time": "2024-10-24T08:11:10.671331Z",
     "start_time": "2024-10-24T08:11:08.799052Z"
    }
   },
   "cell_type": "code",
   "source": "train.nunique()",
   "id": "a4694c08a16c03ab",
   "outputs": [
    {
     "data": {
      "text/plain": [
       "text         181103\n",
       "sentiment         3\n",
       "dtype: int64"
      ]
     },
     "execution_count": 6,
     "metadata": {},
     "output_type": "execute_result"
    }
   ],
   "execution_count": 6
  },
  {
   "metadata": {
    "ExecuteTime": {
     "end_time": "2024-10-24T08:11:10.722891Z",
     "start_time": "2024-10-24T08:11:10.671331Z"
    }
   },
   "cell_type": "code",
   "source": "train.isnull().sum()",
   "id": "c3f3ed3b6c1b1e78",
   "outputs": [
    {
     "data": {
      "text/plain": [
       "text         0\n",
       "sentiment    0\n",
       "dtype: int64"
      ]
     },
     "execution_count": 7,
     "metadata": {},
     "output_type": "execute_result"
    }
   ],
   "execution_count": 7
  },
  {
   "metadata": {
    "ExecuteTime": {
     "end_time": "2024-10-24T08:11:10.738174Z",
     "start_time": "2024-10-24T08:11:10.722891Z"
    }
   },
   "cell_type": "code",
   "source": "train['sentiment'].value_counts()",
   "id": "efb51062d5b3e595",
   "outputs": [
    {
     "data": {
      "text/plain": [
       "sentiment\n",
       "1    90766\n",
       "2    49798\n",
       "0    49327\n",
       "Name: count, dtype: int64"
      ]
     },
     "execution_count": 8,
     "metadata": {},
     "output_type": "execute_result"
    }
   ],
   "execution_count": 8
  },
  {
   "metadata": {},
   "cell_type": "markdown",
   "source": [
    "Видим - с данными все в порядке, пропусков нет. Отметим несбалансированность положительных \n",
    "примеров."
   ],
   "id": "41790789829b475a"
  },
  {
   "metadata": {},
   "cell_type": "markdown",
   "source": "## Предобработка",
   "id": "eb3859def012a546"
  },
  {
   "metadata": {},
   "cell_type": "markdown",
   "source": "Функции предобработки для текста и датасета",
   "id": "ed3980abcc52aa43"
  },
  {
   "metadata": {
    "ExecuteTime": {
     "end_time": "2024-10-24T08:11:11.046650Z",
     "start_time": "2024-10-24T08:11:10.740170Z"
    }
   },
   "cell_type": "code",
   "source": [
    "morph = MorphAnalyzer()\n",
    "# nltk.download('stopwords') # Не надо выполнять если пакет уже загружен\n",
    "stop_words = set(stopwords.words('russian'))\n",
    "\n",
    "\n",
    "def preprocess_text(text: str) -> list[str]:\n",
    "    \"\"\"\n",
    "    Предобработка текста для сентимент-анализа: удаление стоп-слов и лишних символов, \n",
    "    лемматизация, токенизация\n",
    "    :param text: Текст, который надо обработать\n",
    "    :return: Список обработанных токенов\n",
    "    \"\"\"\n",
    "    \n",
    "    text = text.lower()\n",
    "    text = re.sub(r'[^а-яёЁ?!-+0-9\\s]', '', text)\n",
    "    text = text.replace('!', ' ! ').replace('!?', ' !? ')\n",
    "    text = re.sub(r'[()\\[\\]{}]', '', text)\n",
    "\n",
    "    tokens = text.split()\n",
    "    tokens = [morph.parse(token)[0].normal_form for token in tokens if token not in stop_words]\n",
    "    return tokens\n",
    "\n",
    "\n",
    "def preprocess(dataset: pd.DataFrame) -> None:\n",
    "    \"\"\"\n",
    "    Создание дополнительного признака в датасете - результат применения preprocess_text к тексту.\n",
    "    :param dataset: Датасет, который надо обработать\n",
    "    :return: None\n",
    "    \"\"\"\n",
    "\n",
    "    tqdm.pandas(desc=\"Обработка датасета\")\n",
    "\n",
    "    dataset[\"prep_text\"] = dataset[\"text\"].progress_apply(preprocess_text)\n",
    "    \n",
    "    return None"
   ],
   "id": "f7afab9a06775de8",
   "outputs": [],
   "execution_count": 9
  },
  {
   "metadata": {},
   "cell_type": "markdown",
   "source": [
    "Применение функции предобработки к датасетам и их сохранение в зависимости от того, было ли это \n",
    "сделано ранее.  "
   ],
   "id": "d58ac5c9f42f4ab1"
  },
  {
   "metadata": {
    "ExecuteTime": {
     "end_time": "2024-10-24T08:11:20.637758Z",
     "start_time": "2024-10-24T08:11:11.046650Z"
    }
   },
   "cell_type": "code",
   "source": [
    "prep_train_file = os.path.join(data_dir, 'prep_train.csv')\n",
    "prep_test_file = os.path.join(data_dir, 'prep_test.csv')\n",
    "\n",
    "if not os.path.exists(prep_train_file):\n",
    "    print(\"Обработка тренировочного датасета\")\n",
    "    preprocess(train)\n",
    "    train.to_csv(prep_train_file, index=False)  # Сохранение обработанных данных\n",
    "    print(f\"Обработанные тренировочные данные сохранены\")\n",
    "\n",
    "\n",
    "if not os.path.exists(prep_test_file):\n",
    "    print(\"Обработка тестового датасета\")\n",
    "    preprocess(test)\n",
    "    test.to_csv(prep_test_file, index=False)  # Сохранение обработанных данных\n",
    "    print(f\"Обработанные тестовые данные сохранены\")\n",
    "\n",
    "prep_train = pd.read_csv(os.path.join(data_dir, 'prep_train.csv'))\n",
    "prep_test = pd.read_csv(os.path.join(data_dir, 'prep_test.csv'))"
   ],
   "id": "19c3f4b7356f0293",
   "outputs": [],
   "execution_count": 10
  },
  {
   "metadata": {},
   "cell_type": "markdown",
   "source": "## Машинное обучение",
   "id": "8bfbde9a9405597b"
  },
  {
   "metadata": {
    "ExecuteTime": {
     "end_time": "2024-10-24T08:11:20.653363Z",
     "start_time": "2024-10-24T08:11:20.637758Z"
    }
   },
   "cell_type": "code",
   "source": [
    "x_train = prep_train['prep_text'].values\n",
    "y_train = prep_train['sentiment'].values\n",
    "x_test = prep_test['prep_text'].values\n",
    "y_test = prep_test['sentiment'].values"
   ],
   "id": "fa80ced67abe9b41",
   "outputs": [],
   "execution_count": 11
  },
  {
   "metadata": {},
   "cell_type": "markdown",
   "source": "Вычислим веса классов",
   "id": "f53dbf1ad17e9398"
  },
  {
   "metadata": {
    "ExecuteTime": {
     "end_time": "2024-10-24T08:11:20.747115Z",
     "start_time": "2024-10-24T08:11:20.653363Z"
    }
   },
   "cell_type": "code",
   "source": [
    "array_class_weights = compute_class_weight(class_weight=\"balanced\",\n",
    "                                     classes=np.array([0, 1, 2]),\n",
    "                                     y=y_train)\n",
    "class_weights = dict(zip([0, 1, 2], array_class_weights))\n",
    "\n",
    "sample_weights = np.array([class_weights[sentiment] for sentiment in y_train]) # Для XGB"
   ],
   "id": "5b1cadcc88ef66c3",
   "outputs": [],
   "execution_count": 12
  },
  {
   "metadata": {},
   "cell_type": "markdown",
   "source": "Функция для оценки метрик",
   "id": "5c46a614eda550e2"
  },
  {
   "metadata": {
    "ExecuteTime": {
     "end_time": "2024-10-24T08:11:20.762737Z",
     "start_time": "2024-10-24T08:11:20.747115Z"
    }
   },
   "cell_type": "code",
   "source": [
    "def evaluate_model(y_test, y_pred) -> pd.DataFrame:\n",
    "    \"\"\"\n",
    "    Оценка метрик accuracy, precision, recall, f1-score на каждом классе с последующим усреднением\n",
    "    :param y_test: тестовые таргеты\n",
    "    :param y_pred: предсказанные таргеты\n",
    "    :return: \n",
    "    \"\"\"\n",
    "    \n",
    "    accuracy = accuracy_score(y_test, y_pred)\n",
    "    precision = precision_score(y_test, y_pred, average='macro')\n",
    "    recall = recall_score(y_test, y_pred, average='macro')\n",
    "    f1 = f1_score(y_test, y_pred, average='macro')\n",
    "    \n",
    "    metrics = {\n",
    "        'Метрика': ['Accuracy', 'Precision', 'Recall', 'F1 Score'],\n",
    "        'Значение': [accuracy, precision, recall, f1]\n",
    "    }\n",
    "    \n",
    "    df_metrics = pd.DataFrame(metrics)\n",
    "    \n",
    "    return df_metrics"
   ],
   "id": "661ed827a9f139a7",
   "outputs": [],
   "execution_count": 13
  },
  {
   "metadata": {},
   "cell_type": "markdown",
   "source": "### Тестирование различных моделей c BOW и tf-idf",
   "id": "5c47b40c6639495a"
  },
  {
   "metadata": {},
   "cell_type": "markdown",
   "source": [
    "В качестве векторизаторов протестируем bag of words и tf-idf  \n",
    "\n",
    "Примечание. Помимо своих Были протестированы встроенные tf-idf и bag of words - они показали себя\n",
    " +- также (на 1 тысячную хуже!) на logreg, так что я решил оставить свои векторизаторы"
   ],
   "id": "fe746499c7b69d79"
  },
  {
   "metadata": {
    "ExecuteTime": {
     "end_time": "2024-10-24T08:13:15.977451Z",
     "start_time": "2024-10-24T08:11:20.762737Z"
    }
   },
   "cell_type": "code",
   "source": [
    "tf_idf = TfidfVectorizer(min_df=0.01, max_df=0.95, max_features=30000, ngram_range=(1, 2))\n",
    "tf_idf.fit(x_train)\n",
    "x_train_tf_idf = tf_idf.transform(x_train)\n",
    "x_test_tf_idf = tf_idf.transform(x_test)"
   ],
   "id": "e25f4d54d60adbb8",
   "outputs": [],
   "execution_count": 14
  },
  {
   "metadata": {
    "ExecuteTime": {
     "end_time": "2024-10-24T08:15:10.370967Z",
     "start_time": "2024-10-24T08:13:15.977451Z"
    }
   },
   "cell_type": "code",
   "source": [
    "bow = CountVectorizer(min_df=0.01, max_df=0.95, max_features=30000, ngram_range=(1, 2))\n",
    "bow.fit(x_train)\n",
    "x_train_bow = bow.transform(x_train)\n",
    "x_test_bow = bow.transform(x_test)"
   ],
   "id": "6c3b05a726db1e6",
   "outputs": [],
   "execution_count": 15
  },
  {
   "metadata": {},
   "cell_type": "markdown",
   "source": "#### Логистическая регрессия",
   "id": "1620d1f6cf686173"
  },
  {
   "metadata": {},
   "cell_type": "markdown",
   "source": [
    "Логистическая регрессия с мешком слов  \n",
    "f1 на тренировочной - 0.685  \n",
    "f1 на тестовой - 0.69"
   ],
   "id": "ee7fcc5d0066e721"
  },
  {
   "metadata": {},
   "cell_type": "code",
   "source": [
    "logreg_bow = optuna.create_study(study_name=\"logreg_bow\", direction=\"maximize\",\n",
    "                                 sampler=TPESampler(), pruner=HyperbandPruner())\n",
    "\n",
    "def objective(trial):\n",
    "    C = trial.suggest_float('C', 0.0001, 15)\n",
    "    # Закомментировал т.к. multinomial лучше, и если установить параметр multi_class то выскакивает warning ¯\\_(•_•)_/¯\n",
    "    # multi_class = trial.suggest_categorical('multi_class', ['multinomial', 'ovr'])\n",
    "    \n",
    "    # model = LogisticRegression(C=C, multi_class=multi_class, max_iter=5000)\n",
    "    model = LogisticRegression(C=C, max_iter=5000, class_weight=class_weights)\n",
    "    \n",
    "    f1_scores = cross_val_score(model, x_train_bow, y_train, cv=5, scoring='f1_macro')\n",
    "    \n",
    "    return f1_scores.mean()\n",
    "\n",
    "logreg_bow.optimize(objective, n_trials=10)"
   ],
   "id": "e4d6170ca065feeb",
   "outputs": [],
   "execution_count": null
  },
  {
   "metadata": {},
   "cell_type": "code",
   "source": [
    "logreg_bow_model = LogisticRegression(**logreg_bow.best_params, max_iter=5000, class_weight=class_weights)\n",
    "logreg_bow_model.fit(x_train_bow, y_train)\n",
    "evaluate_model(y_test, logreg_bow_model.predict(x_test_bow))"
   ],
   "id": "b3bec5dd15c1d3e7",
   "outputs": [],
   "execution_count": null
  },
  {
   "metadata": {},
   "cell_type": "markdown",
   "source": [
    "Логистическая регрессия с tf-idf  \n",
    "f1 на тренировочной - 0.69  \n",
    "f1 на тестовой - 0.694"
   ],
   "id": "81a903e61b4dfea1"
  },
  {
   "metadata": {},
   "cell_type": "code",
   "source": [
    "logreg_tf_idf = optuna.create_study(study_name=\"logreg_tf_idf\", direction=\"maximize\",\n",
    "                                    sampler=TPESampler(), pruner=HyperbandPruner())\n",
    "\n",
    "def objective(trial):\n",
    "    C = trial.suggest_float('C', 0.0001, 15)\n",
    "    # multi_class = trial.suggest_categorical('multi_class', ['multinomial', 'ovr'])\n",
    "    \n",
    "    # model = LogisticRegression(C=C, multi_class=multi_class, max_iter=2000)\n",
    "    model = LogisticRegression(C=C, max_iter=5000, class_weight=class_weights)\n",
    "    \n",
    "    f1_scores = cross_val_score(model, x_train_tf_idf, y_train, cv=5, scoring='f1_macro')\n",
    "    \n",
    "    return f1_scores.mean()\n",
    "\n",
    "logreg_tf_idf.optimize(objective, n_trials=10)"
   ],
   "id": "c9a7fa9ae7d36422",
   "outputs": [],
   "execution_count": null
  },
  {
   "metadata": {
    "ExecuteTime": {
     "end_time": "2024-10-24T00:06:24.163131Z",
     "start_time": "2024-10-24T00:06:24.163131Z"
    }
   },
   "cell_type": "code",
   "source": [
    "logreg_tf_idf_model = LogisticRegression(**logreg_tf_idf.best_params, max_iter=5000, class_weight=class_weights)\n",
    "logreg_tf_idf_model.fit(x_train_tf_idf, y_train)\n",
    "evaluate_model(y_test, logreg_tf_idf_model.predict(x_test_tf_idf))"
   ],
   "id": "2d2a842c7086641f",
   "outputs": [],
   "execution_count": null
  },
  {
   "metadata": {},
   "cell_type": "markdown",
   "source": "#### Наивный байесовский классификатор",
   "id": "15405d320f476e2e"
  },
  {
   "metadata": {},
   "cell_type": "markdown",
   "source": [
    "NB с мешком слов  \n",
    "f1 на тренировочной - 0.603  \n",
    "f1 на тестовой - 0.609  \n",
    "Не стоит использовать"
   ],
   "id": "88ec7604840d424f"
  },
  {
   "metadata": {},
   "cell_type": "code",
   "source": [
    "nb_bow = optuna.create_study(study_name=\"nb_bow\", direction=\"maximize\",\n",
    "                             sampler=TPESampler(), pruner=HyperbandPruner())\n",
    "\n",
    "def objective(trial):\n",
    "    alpha = trial.suggest_float('alpha', 0.0001, 10)\n",
    "\n",
    "    model = MultinomialNB(alpha=alpha, fit_prior=False)\n",
    "\n",
    "    f1_scores = cross_val_score(model, x_train_bow, y_train, cv=5, scoring='f1_macro')\n",
    "\n",
    "    return f1_scores.mean()\n",
    "\n",
    "nb_bow.optimize(objective, n_trials=10)"
   ],
   "id": "52aefa868f6b1219",
   "outputs": [],
   "execution_count": null
  },
  {
   "metadata": {
    "ExecuteTime": {
     "end_time": "2024-10-22T21:14:38.958718Z",
     "start_time": "2024-10-22T21:14:38.835999Z"
    }
   },
   "cell_type": "code",
   "source": [
    "nb_bow_model = MultinomialNB(**nb_bow.best_params, fit_prior=False)\n",
    "nb_bow_model.fit(x_train_bow, y_train)\n",
    "evaluate_model(y_test, nb_bow_model.predict(x_test_bow))"
   ],
   "id": "d92745551bac0220",
   "outputs": [
    {
     "data": {
      "text/plain": [
       "     Метрика  Значение\n",
       "0   Accuracy  0.608304\n",
       "1  Precision  0.620620\n",
       "2     Recall  0.639119\n",
       "3   F1 Score  0.608729"
      ],
      "text/html": [
       "<div>\n",
       "<style scoped>\n",
       "    .dataframe tbody tr th:only-of-type {\n",
       "        vertical-align: middle;\n",
       "    }\n",
       "\n",
       "    .dataframe tbody tr th {\n",
       "        vertical-align: top;\n",
       "    }\n",
       "\n",
       "    .dataframe thead th {\n",
       "        text-align: right;\n",
       "    }\n",
       "</style>\n",
       "<table border=\"1\" class=\"dataframe\">\n",
       "  <thead>\n",
       "    <tr style=\"text-align: right;\">\n",
       "      <th></th>\n",
       "      <th>Метрика</th>\n",
       "      <th>Значение</th>\n",
       "    </tr>\n",
       "  </thead>\n",
       "  <tbody>\n",
       "    <tr>\n",
       "      <th>0</th>\n",
       "      <td>Accuracy</td>\n",
       "      <td>0.608304</td>\n",
       "    </tr>\n",
       "    <tr>\n",
       "      <th>1</th>\n",
       "      <td>Precision</td>\n",
       "      <td>0.620620</td>\n",
       "    </tr>\n",
       "    <tr>\n",
       "      <th>2</th>\n",
       "      <td>Recall</td>\n",
       "      <td>0.639119</td>\n",
       "    </tr>\n",
       "    <tr>\n",
       "      <th>3</th>\n",
       "      <td>F1 Score</td>\n",
       "      <td>0.608729</td>\n",
       "    </tr>\n",
       "  </tbody>\n",
       "</table>\n",
       "</div>"
      ]
     },
     "execution_count": 39,
     "metadata": {},
     "output_type": "execute_result"
    }
   ],
   "execution_count": 39
  },
  {
   "metadata": {},
   "cell_type": "markdown",
   "source": [
    "NB с tf-idf  \n",
    "f1 на тренировочной - 0.6  \n",
    "f1 на тестовой - 0.625  \n",
    "Не стоит использовать"
   ],
   "id": "7f7759a670bd36d1"
  },
  {
   "metadata": {},
   "cell_type": "code",
   "source": [
    "nb_tf_idf = optuna.create_study(study_name=\"nb_tf_idf\", direction=\"maximize\",\n",
    "                                sampler=TPESampler(), pruner=HyperbandPruner())\n",
    "\n",
    "def objective(trial):\n",
    "    alpha = trial.suggest_float('alpha', 0.0001, 10)\n",
    "\n",
    "    model = MultinomialNB(alpha=alpha, fit_prior=False)\n",
    "\n",
    "    f1_scores = cross_val_score(model, x_train_tf_idf, y_train, cv=5, scoring='f1_macro')\n",
    "\n",
    "    return f1_scores.mean()\n",
    "\n",
    "nb_tf_idf.optimize(objective, n_trials=10)"
   ],
   "id": "f456038281f0027c",
   "outputs": [],
   "execution_count": null
  },
  {
   "metadata": {
    "ExecuteTime": {
     "end_time": "2024-10-22T20:55:26.287510Z",
     "start_time": "2024-10-22T20:55:26.134266Z"
    }
   },
   "cell_type": "code",
   "source": [
    "nb_tf_idf_model = MultinomialNB(**nb_tf_idf.best_params, fit_prior=False)\n",
    "nb_tf_idf_model.fit(x_train_tf_idf, y_train)\n",
    "evaluate_model(y_test, nb_tf_idf_model.predict(x_test_tf_idf))"
   ],
   "id": "841f7cd26dd79381",
   "outputs": [
    {
     "data": {
      "text/plain": [
       "     Метрика  Значение\n",
       "0   Accuracy  0.629254\n",
       "1  Precision  0.626967\n",
       "2     Recall  0.631249\n",
       "3   F1 Score  0.624805"
      ],
      "text/html": [
       "<div>\n",
       "<style scoped>\n",
       "    .dataframe tbody tr th:only-of-type {\n",
       "        vertical-align: middle;\n",
       "    }\n",
       "\n",
       "    .dataframe tbody tr th {\n",
       "        vertical-align: top;\n",
       "    }\n",
       "\n",
       "    .dataframe thead th {\n",
       "        text-align: right;\n",
       "    }\n",
       "</style>\n",
       "<table border=\"1\" class=\"dataframe\">\n",
       "  <thead>\n",
       "    <tr style=\"text-align: right;\">\n",
       "      <th></th>\n",
       "      <th>Метрика</th>\n",
       "      <th>Значение</th>\n",
       "    </tr>\n",
       "  </thead>\n",
       "  <tbody>\n",
       "    <tr>\n",
       "      <th>0</th>\n",
       "      <td>Accuracy</td>\n",
       "      <td>0.629254</td>\n",
       "    </tr>\n",
       "    <tr>\n",
       "      <th>1</th>\n",
       "      <td>Precision</td>\n",
       "      <td>0.626967</td>\n",
       "    </tr>\n",
       "    <tr>\n",
       "      <th>2</th>\n",
       "      <td>Recall</td>\n",
       "      <td>0.631249</td>\n",
       "    </tr>\n",
       "    <tr>\n",
       "      <th>3</th>\n",
       "      <td>F1 Score</td>\n",
       "      <td>0.624805</td>\n",
       "    </tr>\n",
       "  </tbody>\n",
       "</table>\n",
       "</div>"
      ]
     },
     "execution_count": 35,
     "metadata": {},
     "output_type": "execute_result"
    }
   ],
   "execution_count": 35
  },
  {
   "metadata": {},
   "cell_type": "markdown",
   "source": "#### Метод K-ближайших соседей",
   "id": "ad70d1e242898046"
  },
  {
   "metadata": {},
   "cell_type": "markdown",
   "source": "KNN с мешком слов - f1 на тренировочной около 0.635 + слишком долго работает - лучше не использовать",
   "id": "9193a1d0b865cd34"
  },
  {
   "metadata": {},
   "cell_type": "code",
   "source": [
    "knn_bow = optuna.create_study(study_name=\"knn_bow\", direction=\"maximize\",\n",
    "                              sampler=TPESampler(), pruner=HyperbandPruner())\n",
    "\n",
    "def objective(trial):\n",
    "    n_neighbors = trial.suggest_int('n_neighbors', 1, 29, step=2)\n",
    "\n",
    "    model = KNeighborsClassifier(n_neighbors=n_neighbors, metric='cosine', n_jobs=4)\n",
    "\n",
    "    f1_scores = cross_val_score(model, x_train_bow, y_train, cv=5, scoring='f1_macro')\n",
    "\n",
    "    return f1_scores.mean()\n",
    "\n",
    "knn_bow.optimize(objective, n_trials=5)"
   ],
   "id": "d9d0e782f9c9e805",
   "outputs": [],
   "execution_count": null
  },
  {
   "metadata": {},
   "cell_type": "markdown",
   "source": "KNN с tf-idf - f1 на тренировочной около 0.637 + слишком долго работает - лучше не использовать",
   "id": "c5dd95e7957dc62f"
  },
  {
   "metadata": {},
   "cell_type": "code",
   "source": [
    "knn_tf_idf = optuna.create_study(study_name=\"knn_tf_idf\", direction=\"maximize\",\n",
    "                                 sampler=TPESampler(), pruner=HyperbandPruner())\n",
    "\n",
    "def objective(trial):\n",
    "    n_neighbors = trial.suggest_int('n_neighbors', 1, 29, step=2)\n",
    "\n",
    "    model = KNeighborsClassifier(n_neighbors=n_neighbors, metric='cosine', n_jobs=4)\n",
    "\n",
    "    f1_scores = cross_val_score(model, x_train_tf_idf, y_train, cv=5, scoring='f1_macro')\n",
    "\n",
    "    return f1_scores.mean()\n",
    "\n",
    "knn_tf_idf.optimize(objective, n_trials=5)"
   ],
   "id": "e23a19bd9567fa66",
   "outputs": [],
   "execution_count": null
  },
  {
   "metadata": {},
   "cell_type": "markdown",
   "source": "#### Решающее дерево",
   "id": "6de6e5cbf6fe932d"
  },
  {
   "metadata": {},
   "cell_type": "markdown",
   "source": "Решающее дерево с мешком слов - f1 на тренировочной около 0.6 + долго обучается - не стоит использовать",
   "id": "9765674ca1909e08"
  },
  {
   "metadata": {},
   "cell_type": "code",
   "source": [
    "tree_bow = optuna.create_study(study_name=\"tree_bow\", direction=\"maximize\",\n",
    "                               sampler=TPESampler(), pruner=HyperbandPruner())\n",
    "\n",
    "def objective(trial):\n",
    "    max_depth = trial.suggest_int(\"max_depth\", 2, 20)\n",
    "    criterion = trial.suggest_categorical(\"criterion\", [\"gini\", \"entropy\"])\n",
    "\n",
    "    model = DecisionTreeClassifier(max_depth=max_depth, criterion=criterion, class_weight=class_weights)\n",
    "\n",
    "    f1_scores = cross_val_score(model, x_train_bow, y_train, cv=5, scoring='f1_macro')\n",
    "\n",
    "    return f1_scores.mean()\n",
    "\n",
    "tree_bow.optimize(objective, n_trials=10)"
   ],
   "id": "a6737f2e5d871f72",
   "outputs": [],
   "execution_count": null
  },
  {
   "metadata": {},
   "cell_type": "markdown",
   "source": [
    "Решающее дерево с tf-idf  \n",
    "\n",
    "f1 на тренировочной - 0.6  \n",
    "f1 на тестовой - 0.59  \n",
    "Тоже не стоит использовать"
   ],
   "id": "bc1f39a662013f67"
  },
  {
   "metadata": {},
   "cell_type": "code",
   "source": [
    "tree_tf_idf = optuna.create_study(study_name=\"tree_tf_idf\", direction=\"maximize\",\n",
    "                                  sampler=TPESampler(), pruner=HyperbandPruner())\n",
    "\n",
    "def objective(trial):\n",
    "    max_depth = trial.suggest_int(\"max_depth\", 2, 20)\n",
    "    criterion = trial.suggest_categorical(\"criterion\", [\"gini\", \"entropy\"])\n",
    "\n",
    "    model = DecisionTreeClassifier(max_depth=max_depth, criterion=criterion, class_weight=class_weights)\n",
    "\n",
    "    f1_scores = cross_val_score(model, x_train_tf_idf, y_train, cv=5, scoring='f1_macro')\n",
    "\n",
    "    return f1_scores.mean()\n",
    "\n",
    "tree_tf_idf.optimize(objective, n_trials=10)"
   ],
   "id": "c14adda002f1227",
   "outputs": [],
   "execution_count": null
  },
  {
   "metadata": {
    "ExecuteTime": {
     "end_time": "2024-10-22T21:41:42.823689Z",
     "start_time": "2024-10-22T21:40:46.198140Z"
    }
   },
   "cell_type": "code",
   "source": [
    "tree_tf_idf_model = DecisionTreeClassifier(**tree_tf_idf.best_params)\n",
    "tree_tf_idf_model.fit(x_train_tf_idf, y_train)\n",
    "evaluate_model(y_test, tree_tf_idf_model.predict(x_test_tf_idf))"
   ],
   "id": "47c1592dd4a2d76f",
   "outputs": [
    {
     "data": {
      "text/plain": [
       "     Метрика  Значение\n",
       "0   Accuracy  0.611006\n",
       "1  Precision  0.617303\n",
       "2     Recall  0.587504\n",
       "3   F1 Score  0.592788"
      ],
      "text/html": [
       "<div>\n",
       "<style scoped>\n",
       "    .dataframe tbody tr th:only-of-type {\n",
       "        vertical-align: middle;\n",
       "    }\n",
       "\n",
       "    .dataframe tbody tr th {\n",
       "        vertical-align: top;\n",
       "    }\n",
       "\n",
       "    .dataframe thead th {\n",
       "        text-align: right;\n",
       "    }\n",
       "</style>\n",
       "<table border=\"1\" class=\"dataframe\">\n",
       "  <thead>\n",
       "    <tr style=\"text-align: right;\">\n",
       "      <th></th>\n",
       "      <th>Метрика</th>\n",
       "      <th>Значение</th>\n",
       "    </tr>\n",
       "  </thead>\n",
       "  <tbody>\n",
       "    <tr>\n",
       "      <th>0</th>\n",
       "      <td>Accuracy</td>\n",
       "      <td>0.611006</td>\n",
       "    </tr>\n",
       "    <tr>\n",
       "      <th>1</th>\n",
       "      <td>Precision</td>\n",
       "      <td>0.617303</td>\n",
       "    </tr>\n",
       "    <tr>\n",
       "      <th>2</th>\n",
       "      <td>Recall</td>\n",
       "      <td>0.587504</td>\n",
       "    </tr>\n",
       "    <tr>\n",
       "      <th>3</th>\n",
       "      <td>F1 Score</td>\n",
       "      <td>0.592788</td>\n",
       "    </tr>\n",
       "  </tbody>\n",
       "</table>\n",
       "</div>"
      ]
     },
     "execution_count": 41,
     "metadata": {},
     "output_type": "execute_result"
    }
   ],
   "execution_count": 41
  },
  {
   "metadata": {},
   "cell_type": "markdown",
   "source": "#### Случайный лес",
   "id": "ec87ad746a32eb7d"
  },
  {
   "metadata": {},
   "cell_type": "markdown",
   "source": [
    "Случайный лес с мешком слов  \n",
    "f1 на тренировочной 0.6  \n",
    "f1 на тестовой - 0.575  \n",
    "Не стоит использовать"
   ],
   "id": "8891a5c959ec185d"
  },
  {
   "metadata": {},
   "cell_type": "code",
   "source": [
    "rnd_forest_bow = optuna.create_study(study_name=\"rnd_forest_bow\", direction=\"maximize\",\n",
    "                                     sampler=TPESampler(), pruner=HyperbandPruner())\n",
    "\n",
    "def objective(trial):\n",
    "    n_estimators = trial.suggest_int(\"n_estimators\", 50, 500)\n",
    "    max_depth = trial.suggest_int(\"max_depth\", 2, 20)\n",
    "\n",
    "    model = RandomForestClassifier(n_estimators=n_estimators, max_depth=max_depth, \n",
    "                                   class_weight=class_weights, n_jobs=4)\n",
    "    \n",
    "    f1_scores = cross_val_score(model, x_train_bow, y_train, cv=5, scoring='f1_macro')\n",
    "    \n",
    "    return f1_scores.mean()\n",
    "\n",
    "rnd_forest_bow.optimize(objective, n_trials=10)"
   ],
   "id": "1b94118dc56a962b",
   "outputs": [],
   "execution_count": null
  },
  {
   "metadata": {
    "ExecuteTime": {
     "end_time": "2024-10-23T07:47:01.358009Z",
     "start_time": "2024-10-23T07:44:01.073451Z"
    }
   },
   "cell_type": "code",
   "source": [
    "rnd_forest_bow_model = RandomForestClassifier(**rnd_forest_bow.best_params, n_jobs=4)\n",
    "rnd_forest_bow_model.fit(x_train_bow, y_train)\n",
    "evaluate_model(y_test, rnd_forest_bow_model.predict(x_test_bow))"
   ],
   "id": "29ec1108e39c1b9",
   "outputs": [
    {
     "data": {
      "text/plain": [
       "     Метрика  Значение\n",
       "0   Accuracy  0.638070\n",
       "1  Precision  0.698947\n",
       "2     Recall  0.561610\n",
       "3   F1 Score  0.575016"
      ],
      "text/html": [
       "<div>\n",
       "<style scoped>\n",
       "    .dataframe tbody tr th:only-of-type {\n",
       "        vertical-align: middle;\n",
       "    }\n",
       "\n",
       "    .dataframe tbody tr th {\n",
       "        vertical-align: top;\n",
       "    }\n",
       "\n",
       "    .dataframe thead th {\n",
       "        text-align: right;\n",
       "    }\n",
       "</style>\n",
       "<table border=\"1\" class=\"dataframe\">\n",
       "  <thead>\n",
       "    <tr style=\"text-align: right;\">\n",
       "      <th></th>\n",
       "      <th>Метрика</th>\n",
       "      <th>Значение</th>\n",
       "    </tr>\n",
       "  </thead>\n",
       "  <tbody>\n",
       "    <tr>\n",
       "      <th>0</th>\n",
       "      <td>Accuracy</td>\n",
       "      <td>0.638070</td>\n",
       "    </tr>\n",
       "    <tr>\n",
       "      <th>1</th>\n",
       "      <td>Precision</td>\n",
       "      <td>0.698947</td>\n",
       "    </tr>\n",
       "    <tr>\n",
       "      <th>2</th>\n",
       "      <td>Recall</td>\n",
       "      <td>0.561610</td>\n",
       "    </tr>\n",
       "    <tr>\n",
       "      <th>3</th>\n",
       "      <td>F1 Score</td>\n",
       "      <td>0.575016</td>\n",
       "    </tr>\n",
       "  </tbody>\n",
       "</table>\n",
       "</div>"
      ]
     },
     "execution_count": 17,
     "metadata": {},
     "output_type": "execute_result"
    }
   ],
   "execution_count": 17
  },
  {
   "metadata": {},
   "cell_type": "markdown",
   "source": [
    "Случайный лес с tf-idf  \n",
    "f1 на тренировочной - около 0.667, но обучается очень долго"
   ],
   "id": "16b79ee320cade35"
  },
  {
   "metadata": {},
   "cell_type": "code",
   "source": [
    "rnd_forest_tf_idf = optuna.create_study(study_name=\"rnd_forest_tf_idf\", direction=\"maximize\",\n",
    "                                        sampler=TPESampler(), pruner=HyperbandPruner())\n",
    "\n",
    "def objective(trial):\n",
    "    n_estimators = trial.suggest_int(\"n_estimators\", 50, 500)\n",
    "    max_depth = trial.suggest_int(\"max_depth\", 2, 30)\n",
    "\n",
    "    model = RandomForestClassifier(n_estimators=n_estimators, max_depth=max_depth, \n",
    "                                   class_weight=class_weights)\n",
    "    \n",
    "    f1_scores = cross_val_score(model, x_train_tf_idf, y_train, cv=5, scoring='f1_macro')\n",
    "    \n",
    "    return f1_scores.mean()\n",
    "\n",
    "rnd_forest_tf_idf.optimize(objective, n_trials=10)"
   ],
   "id": "290f81f1d567c410",
   "outputs": [],
   "execution_count": null
  },
  {
   "metadata": {
    "ExecuteTime": {
     "end_time": "2024-10-23T13:17:55.049838Z",
     "start_time": "2024-10-23T13:17:55.049838Z"
    }
   },
   "cell_type": "code",
   "source": [
    "rnd_forest_tf_idf_model = RandomForestClassifier(**rnd_forest_tf_idf.best_params, n_jobs=4)\n",
    "rnd_forest_tf_idf_model.fit(x_train_tf_idf, y_train)\n",
    "evaluate_model(y_test, rnd_forest_tf_idf_model.predict(x_test_tf_idf))"
   ],
   "id": "3356fdecd79f29a9",
   "outputs": [],
   "execution_count": null
  },
  {
   "metadata": {},
   "cell_type": "markdown",
   "source": "#### Градиентный бустинг",
   "id": "88c3cd5a784f63d4"
  },
  {
   "metadata": {},
   "cell_type": "markdown",
   "source": [
    "Градиентный бустинг с мешком слов  \n",
    "f1 на тренировочной - 0.719\n",
    "f1 на тестовой - 0.72"
   ],
   "id": "35f2fdc470359104"
  },
  {
   "metadata": {},
   "cell_type": "code",
   "source": [
    "xgb_bow = optuna.create_study(study_name=\"xgb_bow\", direction=\"maximize\",\n",
    "                              sampler=TPESampler(), pruner=HyperbandPruner())\n",
    "\n",
    "def objective(trial):\n",
    "    learning_rate = trial.suggest_float('learning_rate', 0.01, 0.9)\n",
    "    n_estimators = trial.suggest_int('n_estimators', 50, 500)\n",
    "    max_depth = trial.suggest_int('max_depth', 3, 15)\n",
    "    \n",
    "    model = XGBClassifier(learning_rate=learning_rate, n_estimators=n_estimators, \n",
    "                          max_depth=max_depth, n_jobs=4)\n",
    "    \n",
    "    f1_scores = cross_val_score(model, x_train_bow, y_train, cv=5, scoring='f1_macro',\n",
    "                                params={'sample_weight': sample_weights})\n",
    "    \n",
    "    return f1_scores.mean()\n",
    "\n",
    "xgb_bow.optimize(objective, n_trials=10)"
   ],
   "id": "a2a2bf425cb940b3",
   "outputs": [],
   "execution_count": null
  },
  {
   "metadata": {
    "ExecuteTime": {
     "end_time": "2024-10-24T08:27:47.943318Z",
     "start_time": "2024-10-24T08:25:19.050531Z"
    }
   },
   "cell_type": "code",
   "source": [
    "# Взяты из логов optuna для лучшей попытки, просто перезагружал jupyter\n",
    "best_params = {'learning_rate': 0.1506113744991435, 'n_estimators': 337, 'max_depth': 14}\n",
    "\n",
    "xgb_bow_model = XGBClassifier(**best_params, n_jobs=4)\n",
    "xgb_bow_model.fit(x_train_bow, y_train)\n",
    "evaluate_model(y_test, xgb_bow_model.predict(x_test_bow))"
   ],
   "id": "7e278033ff5e54a6",
   "outputs": [
    {
     "data": {
      "text/plain": [
       "     Метрика  Значение\n",
       "0   Accuracy  0.733055\n",
       "1  Precision  0.724450\n",
       "2     Recall  0.718184\n",
       "3   F1 Score  0.720614"
      ],
      "text/html": [
       "<div>\n",
       "<style scoped>\n",
       "    .dataframe tbody tr th:only-of-type {\n",
       "        vertical-align: middle;\n",
       "    }\n",
       "\n",
       "    .dataframe tbody tr th {\n",
       "        vertical-align: top;\n",
       "    }\n",
       "\n",
       "    .dataframe thead th {\n",
       "        text-align: right;\n",
       "    }\n",
       "</style>\n",
       "<table border=\"1\" class=\"dataframe\">\n",
       "  <thead>\n",
       "    <tr style=\"text-align: right;\">\n",
       "      <th></th>\n",
       "      <th>Метрика</th>\n",
       "      <th>Значение</th>\n",
       "    </tr>\n",
       "  </thead>\n",
       "  <tbody>\n",
       "    <tr>\n",
       "      <th>0</th>\n",
       "      <td>Accuracy</td>\n",
       "      <td>0.733055</td>\n",
       "    </tr>\n",
       "    <tr>\n",
       "      <th>1</th>\n",
       "      <td>Precision</td>\n",
       "      <td>0.724450</td>\n",
       "    </tr>\n",
       "    <tr>\n",
       "      <th>2</th>\n",
       "      <td>Recall</td>\n",
       "      <td>0.718184</td>\n",
       "    </tr>\n",
       "    <tr>\n",
       "      <th>3</th>\n",
       "      <td>F1 Score</td>\n",
       "      <td>0.720614</td>\n",
       "    </tr>\n",
       "  </tbody>\n",
       "</table>\n",
       "</div>"
      ]
     },
     "execution_count": 18,
     "metadata": {},
     "output_type": "execute_result"
    }
   ],
   "execution_count": 18
  },
  {
   "metadata": {},
   "cell_type": "markdown",
   "source": [
    "Градиентный бустинг с tf-idf  \n",
    "f1 на тренировочной - чуть хуже, чем с BOW + обучается в разы дольше"
   ],
   "id": "528c9e5180f54cbc"
  },
  {
   "metadata": {},
   "cell_type": "code",
   "source": [
    "xgb_tf_idf = optuna.create_study(study_name=\"xgb_tf_idf\", direction=\"maximize\",\n",
    "                                 sampler=TPESampler(), pruner=HyperbandPruner())\n",
    "\n",
    "def objective(trial):\n",
    "    learning_rate = trial.suggest_float('learning_rate', 0.01, 0.9)\n",
    "    n_estimators = trial.suggest_int('n_estimators', 50, 500)\n",
    "    max_depth = trial.suggest_int('max_depth', 2, 10)\n",
    "    \n",
    "    model = XGBClassifier(learning_rate=learning_rate, n_estimators=n_estimators, \n",
    "                          max_depth=max_depth, n_jobs=4)\n",
    "    \n",
    "    f1_scores = cross_val_score(model, x_train_tf_idf, y_train, cv=5, scoring='f1_macro',\n",
    "                                params={'sample_weight': sample_weights})\n",
    "    \n",
    "    return f1_scores.mean()\n",
    "\n",
    "xgb_tf_idf.optimize(objective, n_trials=10)"
   ],
   "id": "a2e09c2cda8631c4",
   "outputs": [],
   "execution_count": null
  },
  {
   "metadata": {},
   "cell_type": "markdown",
   "source": [
    "**Как видно, лучший (но все еще плохой) результат на тестовой выборке (f1 = 0.72) показал градиентный бустинг с BOW**  \n",
    "Сохраним модель ()"
   ],
   "id": "c33271acb250ea89"
  },
  {
   "metadata": {
    "ExecuteTime": {
     "end_time": "2024-10-24T08:29:35.816756Z",
     "start_time": "2024-10-24T08:29:35.543291Z"
    }
   },
   "cell_type": "code",
   "source": "dump(xgb_bow_model, project_dir + '\\models\\\\xgb_bow_model.joblib')",
   "id": "f63c5c7350e7b18",
   "outputs": [
    {
     "data": {
      "text/plain": [
       "['C:\\\\programming\\\\Projects\\\\REU_Data_Science_Club\\\\Sentiment_Analysis_SMM\\\\models\\\\xgb_bow_model.joblib']"
      ]
     },
     "execution_count": 20,
     "metadata": {},
     "output_type": "execute_result"
    }
   ],
   "execution_count": 20
  },
  {
   "metadata": {},
   "cell_type": "markdown",
   "source": [
    "Судя по всему, bag of words и tf-idf очень плохо подходят для описания имеющихся текстов  \n",
    "Стоит попробовать word embeddings (смотреть в другом ноутбуке)"
   ],
   "id": "76a88f8a2f238566"
  },
  {
   "metadata": {},
   "cell_type": "markdown",
   "source": "### Тестирование различных моделей с word2vec",
   "id": "cf91b88135da1813"
  },
  {
   "metadata": {},
   "cell_type": "markdown",
   "source": "Обучение word2vec в зависимости от того, есть ли уже готовый в папке models, и сохранение",
   "id": "f506f43d136a5c6c"
  },
  {
   "metadata": {
    "ExecuteTime": {
     "end_time": "2024-10-24T08:33:42.675836Z",
     "start_time": "2024-10-24T08:33:42.628965Z"
    }
   },
   "cell_type": "code",
   "source": [
    "word2vec_path = project_dir + \"\\models\\\\word2vec.model\"\n",
    "\n",
    "if not os.path.exists(word2vec_path):\n",
    "    logging.basicConfig(format='%(asctime)s : %(levelname)s : %(message)s', \n",
    "                    level=logging.INFO)\n",
    "    \n",
    "    word2vec = Word2Vec(sentences=x_train,\n",
    "                        vector_size=150,   # Размер векторов\n",
    "                        window=7,          # Размер окна для контекстных слов\n",
    "                        min_count=10,      # Минимальная частота слова для того, чтобы учесть его\n",
    "                        sg=1,              # skip-gram вместо CBOW\n",
    "                        workers=4,         # Ядра процессора\n",
    "                        epochs=10)         # Кол-во эпох\n",
    "    \n",
    "    word2vec.save(word2vec_path)\n",
    "    \n",
    "    logging.basicConfig(level=logging.WARNING)\n",
    "\n",
    "else:\n",
    "    word2vec = Word2Vec.load(word2vec_path)"
   ],
   "id": "e69194d91736fc0d",
   "outputs": [],
   "execution_count": 21
  },
  {
   "metadata": {},
   "cell_type": "markdown",
   "source": "Напишем функцию для векторизации списка токенов",
   "id": "98a382d67e777e32"
  },
  {
   "metadata": {
    "ExecuteTime": {
     "end_time": "2024-10-24T08:33:44.037016Z",
     "start_time": "2024-10-24T08:33:44.021405Z"
    }
   },
   "cell_type": "code",
   "source": [
    "def word2vec_vectorize(text):\n",
    "    \"\"\"\n",
    "    Создание среднего вектора из векторов слов (которые есть в словаре) в токенезированном тексте\n",
    "    :param text: Текст - список токенов\n",
    "    :return: Векторное представление текста \n",
    "    \"\"\"\n",
    "    \n",
    "    words_vecs = [word2vec.wv[word] for word in text if word in word2vec.wv]\n",
    "    if not len(words_vecs):\n",
    "        return np.zeros(word2vec.vector_size)\n",
    "    words_vecs = np.array(words_vecs)\n",
    "    \n",
    "    return words_vecs.mean(axis=0)"
   ],
   "id": "65aa2cf2c0b36da2",
   "outputs": [],
   "execution_count": 22
  },
  {
   "metadata": {},
   "cell_type": "markdown",
   "source": [
    "Применение функции к тренировочной и тестовой выборкам в зависимости от того, есть ли сохраненные \n",
    "векторы в папке data, и сохранение получившихся векторов"
   ],
   "id": "825e9bae76f88a25"
  },
  {
   "metadata": {
    "ExecuteTime": {
     "end_time": "2024-10-24T08:38:31.872986Z",
     "start_time": "2024-10-24T08:38:31.841738Z"
    }
   },
   "cell_type": "code",
   "source": [
    "x_train_word2vec_path = project_dir + '\\data\\\\x_train_word2vec.npz'\n",
    "x_test_word2vec_path = project_dir + '\\data\\\\x_test_word2vec.npz'\n",
    "\n",
    "if not (os.path.exists(x_train_word2vec_path) and os.path.exists(x_test_word2vec_path)):\n",
    "    x_train_word2vec = np.array([word2vec_vectorize(text) for text in tqdm(x_train)])\n",
    "    x_train_word2vec = x_train_word2vec.astype(np.float32)\n",
    "    np.savez_compressed(x_train_word2vec_path, x_train_word2vec)\n",
    "    \n",
    "    x_test_word2vec = np.array([word2vec_vectorize(text) for text in tqdm(x_test)])\n",
    "    np.savez_compressed(x_train_word2vec_path, x_train_word2vec)\n",
    "    x_test_word2vec = x_test_word2vec.astype(np.float32)\n",
    "\n",
    "else:\n",
    "    x_train_word2vec = np.load(x_train_word2vec_path)\n",
    "    x_test_word2vec = np.load(x_test_word2vec_path)"
   ],
   "id": "4c0e9bc54de9984f",
   "outputs": [],
   "execution_count": 31
  },
  {
   "metadata": {},
   "cell_type": "markdown",
   "source": "#### Логистическая регрессия",
   "id": "4fd99bf1661670c0"
  },
  {
   "metadata": {},
   "cell_type": "markdown",
   "source": "Работает плохо с word2vec (f1 = 0.5)",
   "id": "a20f65be7ab01a23"
  },
  {
   "metadata": {},
   "cell_type": "code",
   "source": [
    "logreg_word2vec = optuna.create_study(study_name=\"logreg_word2vec\", direction=\"maximize\",\n",
    "                                 sampler=TPESampler(), pruner=HyperbandPruner())\n",
    "\n",
    "def objective(trial):\n",
    "    C = trial.suggest_float('C', 0.0001, 10)\n",
    "\n",
    "    model = LogisticRegression(C=C, max_iter=1000)\n",
    "    \n",
    "    f1_scores = cross_val_score(model, x_train_word2vec, y_train, cv=5, scoring='f1_macro', \n",
    "                                class_weight=class_weights)\n",
    "    \n",
    "    return f1_scores.mean()\n",
    "\n",
    "\n",
    "logreg_word2vec.optimize(objective, n_trials=5)"
   ],
   "id": "c42409db9dd35d15",
   "outputs": [],
   "execution_count": null
  },
  {
   "metadata": {},
   "cell_type": "markdown",
   "source": "#### Градиентный бустинг",
   "id": "49a21c9cc8a4a51e"
  },
  {
   "metadata": {},
   "cell_type": "code",
   "source": [
    "xgb_word2vec = optuna.create_study(study_name=\"xgb_word2vec\", direction=\"maximize\",\n",
    "                              sampler=TPESampler(), pruner=HyperbandPruner())\n",
    "\n",
    "def objective(trial):\n",
    "    learning_rate = trial.suggest_float('learning_rate', 0.01, 0.9)\n",
    "    n_estimators = trial.suggest_int('n_estimators', 50, 500)\n",
    "    max_depth = trial.suggest_int('max_depth', 3, 10)\n",
    "    \n",
    "    model = XGBClassifier(learning_rate=learning_rate, n_estimators=n_estimators, \n",
    "                          max_depth=max_depth, n_jobs=4)\n",
    "    \n",
    "    f1_scores = cross_val_score(model, x_train_word2vec, y_train, cv=5, scoring='f1_macro',\n",
    "                                params={'sample_weight': sample_weights})\n",
    "    \n",
    "    return f1_scores.mean()\n",
    "\n",
    "xgb_word2vec.optimize(objective, n_trials=10)"
   ],
   "id": "a715108aed32c42b",
   "outputs": [],
   "execution_count": null
  },
  {
   "metadata": {},
   "cell_type": "markdown",
   "source": [
    "**Вывод. Пока что наилучший результат дает XGB с tf-idf. Думаю, что стоит попробовать другие \n",
    "эмбеддинги.**"
   ],
   "id": "d15df430eda155ed"
  },
  {
   "metadata": {},
   "cell_type": "code",
   "outputs": [],
   "execution_count": null,
   "source": "",
   "id": "f5c43f1d4f23b5d5"
  }
 ],
 "metadata": {
  "kernelspec": {
   "display_name": "Python 3",
   "language": "python",
   "name": "python3"
  },
  "language_info": {
   "codemirror_mode": {
    "name": "ipython",
    "version": 2
   },
   "file_extension": ".py",
   "mimetype": "text/x-python",
   "name": "python",
   "nbconvert_exporter": "python",
   "pygments_lexer": "ipython2",
   "version": "2.7.6"
  }
 },
 "nbformat": 4,
 "nbformat_minor": 5
}
