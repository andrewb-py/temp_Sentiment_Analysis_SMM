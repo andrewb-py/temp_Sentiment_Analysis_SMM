{
 "cells": [
  {
   "metadata": {},
   "cell_type": "markdown",
   "source": "# Сентимент-анализ текстов на русском языке",
   "id": "9149305444b6d95a"
  },
  {
   "metadata": {
    "ExecuteTime": {
     "end_time": "2024-10-19T13:27:52.377663Z",
     "start_time": "2024-10-19T13:27:49.765425Z"
    }
   },
   "cell_type": "code",
   "source": [
    "import os\n",
    "\n",
    "import pandas as pd\n",
    "import numpy as np\n",
    "\n",
    "from sklearn.model_selection import GridSearchCV\n",
    "\n",
    "import nltk\n",
    "from sklearn.feature_extraction.text import TfidfVectorizer\n",
    "#TODO word2vec and fasttext import\n",
    "#TODO mb Bert/RuBert import\n",
    "\n",
    "from sklearn.linear_model import LogisticRegression\n",
    "from sklearn.naive_bayes import GaussianNB\n",
    "from sklearn.tree import DecisionTreeClassifier\n",
    "from sklearn.svm import SVC # TODO подумать над опорными векторами\n",
    "from sklearn.ensemble import RandomForestClassifier\n",
    "\n",
    "from sklearn.metrics import f1_score, accuracy_score, recall_score, precision_score, confusion_matrix"
   ],
   "id": "a53744593cdba528",
   "outputs": [],
   "execution_count": 1
  },
  {
   "metadata": {},
   "cell_type": "markdown",
   "source": [
    "Запуск скрипта для загрузки тренировочных и тестовых данных (можно не комментировать, в случае \n",
    "если данные уже загружены - это учитывается) и загрузка данных в датафреймы"
   ],
   "id": "d8f7b2298def434"
  },
  {
   "metadata": {
    "ExecuteTime": {
     "end_time": "2024-10-19T13:32:34.869252Z",
     "start_time": "2024-10-19T13:32:28.693775Z"
    }
   },
   "cell_type": "code",
   "source": [
    "current_dir = os.getcwd()\n",
    "project_dir = os.path.abspath(os.path.join(current_dir, '..'))\n",
    "\n",
    "data_load_script_path = os.path.join(project_dir, \"scripts\\\\data_load.py\")\n",
    "!python {data_load_script_path}\n",
    "\n",
    "data_dir = os.path.join(project_dir, 'data')\n",
    "\n",
    "train = pd.read_csv(os.path.join(data_dir, 'train.csv'))\n",
    "test = pd.read_csv(os.path.join(data_dir, 'test.csv'))"
   ],
   "id": "f1db96b657f2dc49",
   "outputs": [],
   "execution_count": 7
  },
  {
   "metadata": {},
   "cell_type": "markdown",
   "source": "Посмотрим на данные",
   "id": "6f916a4c025ac138"
  },
  {
   "metadata": {
    "ExecuteTime": {
     "end_time": "2024-10-19T13:27:54.208289Z",
     "start_time": "2024-10-19T13:27:54.208289Z"
    }
   },
   "cell_type": "code",
   "source": "train.head(5)",
   "id": "d202aafa891f2ffc",
   "outputs": [],
   "execution_count": null
  },
  {
   "metadata": {},
   "cell_type": "markdown",
   "source": [
    "0 - нейтральный, 1 - позитивный, 2 - негативный.  \n",
    "Можно отбросить признак Unnamed: 0"
   ],
   "id": "f06edd57542251bd"
  },
  {
   "metadata": {},
   "cell_type": "code",
   "source": "data = train.drop(columns=[\"Unnamed: 0\"])",
   "id": "f47608d3c70ade4f",
   "outputs": [],
   "execution_count": null
  },
  {
   "metadata": {},
   "cell_type": "code",
   "source": "data.describe()",
   "id": "44e4eaf4bca6b3b5",
   "outputs": [],
   "execution_count": null
  },
  {
   "metadata": {},
   "cell_type": "code",
   "source": "data.nunique()",
   "id": "a4694c08a16c03ab",
   "outputs": [],
   "execution_count": null
  },
  {
   "metadata": {},
   "cell_type": "code",
   "source": "data.isnull().sum()",
   "id": "c3f3ed3b6c1b1e78",
   "outputs": [],
   "execution_count": null
  },
  {
   "metadata": {},
   "cell_type": "code",
   "source": "data.hist",
   "id": "efb51062d5b3e595",
   "outputs": [],
   "execution_count": null
  },
  {
   "metadata": {},
   "cell_type": "markdown",
   "source": "Видим - пропусков нет. Займемся предобработкой",
   "id": "41790789829b475a"
  },
  {
   "metadata": {},
   "cell_type": "code",
   "source": "",
   "id": "19c3f4b7356f0293",
   "outputs": [],
   "execution_count": null
  }
 ],
 "metadata": {
  "kernelspec": {
   "display_name": "Python 3",
   "language": "python",
   "name": "python3"
  },
  "language_info": {
   "codemirror_mode": {
    "name": "ipython",
    "version": 2
   },
   "file_extension": ".py",
   "mimetype": "text/x-python",
   "name": "python",
   "nbconvert_exporter": "python",
   "pygments_lexer": "ipython2",
   "version": "2.7.6"
  }
 },
 "nbformat": 4,
 "nbformat_minor": 5
}
