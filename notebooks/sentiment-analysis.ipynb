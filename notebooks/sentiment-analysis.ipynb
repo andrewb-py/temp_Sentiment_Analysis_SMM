{
 "cells": [
  {
   "metadata": {},
   "cell_type": "markdown",
   "source": "# Сентимент-анализ текстов на русском языке",
   "id": "9149305444b6d95a"
  },
  {
   "metadata": {
    "ExecuteTime": {
     "end_time": "2024-10-20T20:43:28.268410Z",
     "start_time": "2024-10-20T20:43:25.220110Z"
    }
   },
   "cell_type": "code",
   "source": [
    "import os\n",
    "\n",
    "import pandas as pd\n",
    "import numpy as np\n",
    "from tqdm.notebook import tqdm\n",
    "\n",
    "import nltk\n",
    "from pymorphy3 import MorphAnalyzer\n",
    "from nltk.corpus import stopwords\n",
    "import re\n",
    "\n",
    "from sklearn.feature_extraction.text import TfidfVectorizer\n",
    "#TODO мб попробовать word2vec/fasttext\n",
    "\n",
    "from sklearn.model_selection import GridSearchCV\n",
    "from sklearn.pipeline import Pipeline\n",
    "\n",
    "from sklearn.linear_model import LogisticRegression\n",
    "from sklearn.naive_bayes import GaussianNB\n",
    "from sklearn.svm import SVC\n",
    "from sklearn.tree import DecisionTreeClassifier\n",
    "from sklearn.ensemble import RandomForestClassifier\n",
    "\n",
    "from sklearn.metrics import f1_score, accuracy_score, recall_score, precision_score, confusion_matrix"
   ],
   "id": "a53744593cdba528",
   "outputs": [],
   "execution_count": 1
  },
  {
   "metadata": {},
   "cell_type": "markdown",
   "source": [
    "Запуск скрипта для загрузки тренировочных и тестовых данных (можно не комментировать, в случае \n",
    "если данные уже загружены - это учитывается) и загрузка данных в датафреймы"
   ],
   "id": "d8f7b2298def434"
  },
  {
   "metadata": {
    "ExecuteTime": {
     "end_time": "2024-10-20T20:43:34.259938Z",
     "start_time": "2024-10-20T20:43:28.268410Z"
    }
   },
   "cell_type": "code",
   "source": [
    "current_dir = os.getcwd()\n",
    "project_dir = os.path.abspath(os.path.join(current_dir, '..'))\n",
    "\n",
    "data_load_script_path = os.path.join(project_dir, \"scripts\\\\data_load.py\")\n",
    "!python {data_load_script_path}\n",
    "\n",
    "data_dir = os.path.join(project_dir, 'data')\n",
    "\n",
    "train = pd.read_csv(os.path.join(data_dir, 'train.csv'))\n",
    "test = pd.read_csv(os.path.join(data_dir, 'test.csv'))"
   ],
   "id": "f1db96b657f2dc49",
   "outputs": [],
   "execution_count": 2
  },
  {
   "metadata": {},
   "cell_type": "markdown",
   "source": "Посмотрим на данные",
   "id": "6f916a4c025ac138"
  },
  {
   "metadata": {
    "ExecuteTime": {
     "end_time": "2024-10-20T20:43:34.291188Z",
     "start_time": "2024-10-20T20:43:34.259938Z"
    }
   },
   "cell_type": "code",
   "source": "train.head(5)",
   "id": "d202aafa891f2ffc",
   "outputs": [
    {
     "data": {
      "text/plain": [
       "   Unnamed: 0                                               text  sentiment\n",
       "0       21098  .с.,и спросил его:  о Посланник Аллаха!Ты пори...          1\n",
       "1       21099  Роднее всех родных Попала я в ГКБ №8 еще в дек...          1\n",
       "2       21100  Непорядочное отношение к своим работникам Рабо...          2\n",
       "3       21101  ). Отсутствуют нормативы, Госты и прочее, что ...          1\n",
       "4       21102             У меня машина в руках 5 лет и это п...          1"
      ],
      "text/html": [
       "<div>\n",
       "<style scoped>\n",
       "    .dataframe tbody tr th:only-of-type {\n",
       "        vertical-align: middle;\n",
       "    }\n",
       "\n",
       "    .dataframe tbody tr th {\n",
       "        vertical-align: top;\n",
       "    }\n",
       "\n",
       "    .dataframe thead th {\n",
       "        text-align: right;\n",
       "    }\n",
       "</style>\n",
       "<table border=\"1\" class=\"dataframe\">\n",
       "  <thead>\n",
       "    <tr style=\"text-align: right;\">\n",
       "      <th></th>\n",
       "      <th>Unnamed: 0</th>\n",
       "      <th>text</th>\n",
       "      <th>sentiment</th>\n",
       "    </tr>\n",
       "  </thead>\n",
       "  <tbody>\n",
       "    <tr>\n",
       "      <th>0</th>\n",
       "      <td>21098</td>\n",
       "      <td>.с.,и спросил его:  о Посланник Аллаха!Ты пори...</td>\n",
       "      <td>1</td>\n",
       "    </tr>\n",
       "    <tr>\n",
       "      <th>1</th>\n",
       "      <td>21099</td>\n",
       "      <td>Роднее всех родных Попала я в ГКБ №8 еще в дек...</td>\n",
       "      <td>1</td>\n",
       "    </tr>\n",
       "    <tr>\n",
       "      <th>2</th>\n",
       "      <td>21100</td>\n",
       "      <td>Непорядочное отношение к своим работникам Рабо...</td>\n",
       "      <td>2</td>\n",
       "    </tr>\n",
       "    <tr>\n",
       "      <th>3</th>\n",
       "      <td>21101</td>\n",
       "      <td>). Отсутствуют нормативы, Госты и прочее, что ...</td>\n",
       "      <td>1</td>\n",
       "    </tr>\n",
       "    <tr>\n",
       "      <th>4</th>\n",
       "      <td>21102</td>\n",
       "      <td>У меня машина в руках 5 лет и это п...</td>\n",
       "      <td>1</td>\n",
       "    </tr>\n",
       "  </tbody>\n",
       "</table>\n",
       "</div>"
      ]
     },
     "execution_count": 3,
     "metadata": {},
     "output_type": "execute_result"
    }
   ],
   "execution_count": 3
  },
  {
   "metadata": {},
   "cell_type": "markdown",
   "source": [
    "0 - нейтральный, 1 - позитивный, 2 - негативный.  \n",
    "Можно отбросить признак Unnamed: 0"
   ],
   "id": "f06edd57542251bd"
  },
  {
   "metadata": {
    "ExecuteTime": {
     "end_time": "2024-10-20T20:43:34.336005Z",
     "start_time": "2024-10-20T20:43:34.291188Z"
    }
   },
   "cell_type": "code",
   "source": [
    "train.drop(columns=[\"Unnamed: 0\"], inplace=True)\n",
    "test.drop(columns=[\"Unnamed: 0\"], inplace=True)"
   ],
   "id": "f47608d3c70ade4f",
   "outputs": [],
   "execution_count": 4
  },
  {
   "metadata": {
    "ExecuteTime": {
     "end_time": "2024-10-20T20:43:34.367253Z",
     "start_time": "2024-10-20T20:43:34.336005Z"
    }
   },
   "cell_type": "code",
   "source": "train.describe()",
   "id": "44e4eaf4bca6b3b5",
   "outputs": [
    {
     "data": {
      "text/plain": [
       "          sentiment\n",
       "count  189891.00000\n",
       "mean        1.00248\n",
       "std         0.72250\n",
       "min         0.00000\n",
       "25%         0.00000\n",
       "50%         1.00000\n",
       "75%         2.00000\n",
       "max         2.00000"
      ],
      "text/html": [
       "<div>\n",
       "<style scoped>\n",
       "    .dataframe tbody tr th:only-of-type {\n",
       "        vertical-align: middle;\n",
       "    }\n",
       "\n",
       "    .dataframe tbody tr th {\n",
       "        vertical-align: top;\n",
       "    }\n",
       "\n",
       "    .dataframe thead th {\n",
       "        text-align: right;\n",
       "    }\n",
       "</style>\n",
       "<table border=\"1\" class=\"dataframe\">\n",
       "  <thead>\n",
       "    <tr style=\"text-align: right;\">\n",
       "      <th></th>\n",
       "      <th>sentiment</th>\n",
       "    </tr>\n",
       "  </thead>\n",
       "  <tbody>\n",
       "    <tr>\n",
       "      <th>count</th>\n",
       "      <td>189891.00000</td>\n",
       "    </tr>\n",
       "    <tr>\n",
       "      <th>mean</th>\n",
       "      <td>1.00248</td>\n",
       "    </tr>\n",
       "    <tr>\n",
       "      <th>std</th>\n",
       "      <td>0.72250</td>\n",
       "    </tr>\n",
       "    <tr>\n",
       "      <th>min</th>\n",
       "      <td>0.00000</td>\n",
       "    </tr>\n",
       "    <tr>\n",
       "      <th>25%</th>\n",
       "      <td>0.00000</td>\n",
       "    </tr>\n",
       "    <tr>\n",
       "      <th>50%</th>\n",
       "      <td>1.00000</td>\n",
       "    </tr>\n",
       "    <tr>\n",
       "      <th>75%</th>\n",
       "      <td>2.00000</td>\n",
       "    </tr>\n",
       "    <tr>\n",
       "      <th>max</th>\n",
       "      <td>2.00000</td>\n",
       "    </tr>\n",
       "  </tbody>\n",
       "</table>\n",
       "</div>"
      ]
     },
     "execution_count": 5,
     "metadata": {},
     "output_type": "execute_result"
    }
   ],
   "execution_count": 5
  },
  {
   "metadata": {
    "ExecuteTime": {
     "end_time": "2024-10-20T20:43:35.935186Z",
     "start_time": "2024-10-20T20:43:34.367253Z"
    }
   },
   "cell_type": "code",
   "source": "train.nunique()",
   "id": "a4694c08a16c03ab",
   "outputs": [
    {
     "data": {
      "text/plain": [
       "text         181103\n",
       "sentiment         3\n",
       "dtype: int64"
      ]
     },
     "execution_count": 6,
     "metadata": {},
     "output_type": "execute_result"
    }
   ],
   "execution_count": 6
  },
  {
   "metadata": {
    "ExecuteTime": {
     "end_time": "2024-10-20T20:43:35.981732Z",
     "start_time": "2024-10-20T20:43:35.935186Z"
    }
   },
   "cell_type": "code",
   "source": "train.isnull().sum()",
   "id": "c3f3ed3b6c1b1e78",
   "outputs": [
    {
     "data": {
      "text/plain": [
       "text         0\n",
       "sentiment    0\n",
       "dtype: int64"
      ]
     },
     "execution_count": 7,
     "metadata": {},
     "output_type": "execute_result"
    }
   ],
   "execution_count": 7
  },
  {
   "metadata": {
    "ExecuteTime": {
     "end_time": "2024-10-20T20:43:35.997358Z",
     "start_time": "2024-10-20T20:43:35.981732Z"
    }
   },
   "cell_type": "code",
   "source": "train['sentiment'].value_counts()",
   "id": "efb51062d5b3e595",
   "outputs": [
    {
     "data": {
      "text/plain": [
       "sentiment\n",
       "1    90766\n",
       "2    49798\n",
       "0    49327\n",
       "Name: count, dtype: int64"
      ]
     },
     "execution_count": 8,
     "metadata": {},
     "output_type": "execute_result"
    }
   ],
   "execution_count": 8
  },
  {
   "metadata": {},
   "cell_type": "markdown",
   "source": [
    "Видим - с данными все в порядке, пропусков нет. Отметим несбалансированность положительных \n",
    "примеров, возможно пригодится."
   ],
   "id": "41790789829b475a"
  },
  {
   "metadata": {},
   "cell_type": "markdown",
   "source": "## Предобработка",
   "id": "eb3859def012a546"
  },
  {
   "metadata": {},
   "cell_type": "markdown",
   "source": "Функции предобработки для текста и датасета",
   "id": "ed3980abcc52aa43"
  },
  {
   "metadata": {
    "ExecuteTime": {
     "end_time": "2024-10-20T20:43:36.321318Z",
     "start_time": "2024-10-20T20:43:35.997358Z"
    }
   },
   "cell_type": "code",
   "source": [
    "morph = MorphAnalyzer()\n",
    "# nltk.download('stopwords') # Не надо выполнять если пакет уже загружен\n",
    "stop_words = set(stopwords.words('russian'))\n",
    "\n",
    "\n",
    "def preprocess_text(text):\n",
    "    \"\"\"\n",
    "    Предобработка текста для сентимент-анализа: удаление стоп-слов и лишних символов, \n",
    "    лемматизация, токенизация\n",
    "    :param text: Текст, который надо обработать\n",
    "    :return: Обработанные токены\n",
    "    \"\"\"\n",
    "    \n",
    "    text = text.lower()\n",
    "    text = re.sub(r'[^а-яёЁ?!-+0-9\\s]', '', text)\n",
    "    text = text.replace('!', ' ! ').replace('!?', ' !? ')\n",
    "    text = re.sub(r'[()\\[\\]{}]', '', text)\n",
    "\n",
    "    tokens = text.split()\n",
    "    tokens = [morph.parse(token)[0].normal_form for token in tokens if token not in stop_words]\n",
    "    return tokens\n",
    "\n",
    "\n",
    "def preprocess(dataset):\n",
    "    \"\"\"\n",
    "    Создание дополнительного признака в датасете - результат применения preprocess_text к тексту.\n",
    "    :param dataset: Датасет, который надо обработать\n",
    "    :return: None\n",
    "    \"\"\"\n",
    "\n",
    "    tqdm.pandas(desc=\"Обработка датасета\")\n",
    "\n",
    "    dataset[\"prep_text\"] = dataset[\"text\"].progress_apply(preprocess_text)\n",
    "    \n",
    "    return None"
   ],
   "id": "f7afab9a06775de8",
   "outputs": [],
   "execution_count": 9
  },
  {
   "metadata": {},
   "cell_type": "markdown",
   "source": [
    "Применение функции предобработки к датасетам и их сохранение в зависимости от того, было ли это \n",
    "сделано ранее"
   ],
   "id": "d58ac5c9f42f4ab1"
  },
  {
   "metadata": {
    "ExecuteTime": {
     "end_time": "2024-10-20T20:43:45.723522Z",
     "start_time": "2024-10-20T20:43:36.321318Z"
    }
   },
   "cell_type": "code",
   "source": [
    "prep_train_file = os.path.join(data_dir, 'prep_train.csv')\n",
    "prep_test_file = os.path.join(data_dir, 'prep_test.csv')\n",
    "\n",
    "if not os.path.exists(prep_train_file):\n",
    "    print(\"Обработка тренировочного датасета\")\n",
    "    preprocess(train)\n",
    "    train.to_csv(prep_train_file, index=False)  # Сохранение обработанных данных\n",
    "    print(f\"Обработанные тренировочные данные сохранены\")\n",
    "\n",
    "\n",
    "if not os.path.exists(prep_test_file):\n",
    "    print(\"Обработка тестового датасета\")\n",
    "    preprocess(test)\n",
    "    test.to_csv(prep_test_file, index=False)  # Сохранение обработанных данных\n",
    "    print(f\"Обработанные тестовые данные сохранены\")\n",
    "\n",
    "prep_train = pd.read_csv(os.path.join(data_dir, 'prep_train.csv'))\n",
    "prep_test = pd.read_csv(os.path.join(data_dir, 'prep_test.csv'))"
   ],
   "id": "19c3f4b7356f0293",
   "outputs": [],
   "execution_count": 10
  },
  {
   "metadata": {},
   "cell_type": "markdown",
   "source": "## Обучение различных моделей",
   "id": "5c47b40c6639495a"
  },
  {
   "metadata": {
    "ExecuteTime": {
     "end_time": "2024-10-20T20:43:45.739147Z",
     "start_time": "2024-10-20T20:43:45.723522Z"
    }
   },
   "cell_type": "code",
   "source": "",
   "id": "fa80ced67abe9b41",
   "outputs": [],
   "execution_count": 10
  }
 ],
 "metadata": {
  "kernelspec": {
   "display_name": "Python 3",
   "language": "python",
   "name": "python3"
  },
  "language_info": {
   "codemirror_mode": {
    "name": "ipython",
    "version": 2
   },
   "file_extension": ".py",
   "mimetype": "text/x-python",
   "name": "python",
   "nbconvert_exporter": "python",
   "pygments_lexer": "ipython2",
   "version": "2.7.6"
  }
 },
 "nbformat": 4,
 "nbformat_minor": 5
}
