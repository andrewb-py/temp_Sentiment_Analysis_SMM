{
 "cells": [
  {
   "metadata": {},
   "cell_type": "markdown",
   "source": "## Машинное обучение",
   "id": "9149305444b6d95a"
  },
  {
   "metadata": {},
   "cell_type": "markdown",
   "source": "Необходимые импорты",
   "id": "d218c0459476ffd4"
  },
  {
   "metadata": {
    "ExecuteTime": {
     "end_time": "2024-10-29T21:04:02.719695Z",
     "start_time": "2024-10-29T21:03:59.615183Z"
    }
   },
   "cell_type": "code",
   "source": [
    "import os\n",
    "\n",
    "from joblib import dump\n",
    "from data_load import raw_data_load  # Свои функции для загрузки данных\n",
    "\n",
    "import pandas as pd\n",
    "import numpy as np\n",
    "\n",
    "from sklearn.feature_extraction.text import TfidfVectorizer, CountVectorizer\n",
    "\n",
    "from sklearn.linear_model import LogisticRegression\n",
    "from xgboost import XGBClassifier\n",
    "\n",
    "import optuna\n",
    "from optuna.samplers import TPESampler\n",
    "from optuna.pruners import HyperbandPruner\n",
    "from sklearn.model_selection import cross_val_score\n",
    "from sklearn.utils.class_weight import compute_class_weight\n",
    "\n",
    "from sklearn.metrics import precision_score, recall_score, f1_score, accuracy_score"
   ],
   "id": "a53744593cdba528",
   "outputs": [],
   "execution_count": 1
  },
  {
   "metadata": {},
   "cell_type": "markdown",
   "source": "Чтение предобработанных (в ноутбуке preprocessing) данных в датафреймы, отделение таргетов",
   "id": "d8f7b2298def434"
  },
  {
   "metadata": {
    "ExecuteTime": {
     "end_time": "2024-10-29T21:14:16.117137Z",
     "start_time": "2024-10-29T21:14:06.161109Z"
    }
   },
   "cell_type": "code",
   "source": [
    "data_dir = \"../data\"\n",
    "\n",
    "train = pd.read_csv(os.path.join(data_dir, \"prep_train.csv\"))\n",
    "test = pd.read_csv(os.path.join(data_dir, \"prep_test.csv\"))\n",
    "\n",
    "x_train = train['prep_text'].values\n",
    "y_train = train['sentiment'].values\n",
    "x_test = test['prep_text'].values\n",
    "y_test = test['sentiment'].values"
   ],
   "id": "fa80ced67abe9b41",
   "outputs": [],
   "execution_count": 3
  },
  {
   "metadata": {},
   "cell_type": "markdown",
   "source": "Вычислим веса классов",
   "id": "f53dbf1ad17e9398"
  },
  {
   "metadata": {
    "ExecuteTime": {
     "end_time": "2024-10-29T21:14:37.322602Z",
     "start_time": "2024-10-29T21:14:37.226544Z"
    }
   },
   "cell_type": "code",
   "source": [
    "array_class_weights = compute_class_weight(class_weight=\"balanced\",\n",
    "                                           classes=np.array([0, 1, 2]),\n",
    "                                           y=y_train)\n",
    "class_weights = dict(zip([0, 1, 2], array_class_weights))\n",
    "\n",
    "sample_weights = np.array([class_weights[sentiment] for sentiment in y_train])  # Для XGB"
   ],
   "id": "5b1cadcc88ef66c3",
   "outputs": [],
   "execution_count": 4
  },
  {
   "metadata": {},
   "cell_type": "markdown",
   "source": "Функция для оценки метрик",
   "id": "5c46a614eda550e2"
  },
  {
   "metadata": {
    "ExecuteTime": {
     "end_time": "2024-10-29T21:14:39.959265Z",
     "start_time": "2024-10-29T21:14:39.942085Z"
    }
   },
   "cell_type": "code",
   "source": [
    "def evaluate_model(y_test, y_pred) -> pd.DataFrame:\n",
    "    \"\"\"\n",
    "    Оценка метрик accuracy, precision, recall, f1-score на каждом классе с последующим усреднением\n",
    "    :param y_test: тестовые таргеты\n",
    "    :param y_pred: предсказанные таргеты\n",
    "    :return: \n",
    "    \"\"\"\n",
    "\n",
    "    accuracy = accuracy_score(y_test, y_pred)\n",
    "    precision = precision_score(y_test, y_pred, average='macro')\n",
    "    recall = recall_score(y_test, y_pred, average='macro')\n",
    "    f1 = f1_score(y_test, y_pred, average='macro')\n",
    "\n",
    "    metrics = {\n",
    "        'Метрика': ['Accuracy', 'Precision', 'Recall', 'F1 Score'],\n",
    "        'Значение': [accuracy, precision, recall, f1]\n",
    "    }\n",
    "\n",
    "    df_metrics = pd.DataFrame(metrics)\n",
    "\n",
    "    return df_metrics"
   ],
   "id": "661ed827a9f139a7",
   "outputs": [],
   "execution_count": 5
  },
  {
   "metadata": {},
   "cell_type": "markdown",
   "source": [
    "Были протестированы с bag of words и tf-idf такие модели как: логистическая регрессия, наивный \n",
    "байесовский классификатор, метод ближайших соседей, дерево решений, случайный лес, градиентный \n",
    "бустинг. С word2vec были протестированы логистическая регрессия и градиентный бустинг. Код с \n",
    "тестированием всех этих моделей можно найти в ветке \"Andrew\".  \n",
    "\n",
    "Лучше всех себя показали:  \n",
    "градиентный бустинг с bag of words (f1-macro на тестовой - 0.720)  \n",
    "логистическая регрессия с tf-idf (f1-macro на тестовой - 0.69)"
   ],
   "id": "fe746499c7b69d79"
  },
  {
   "metadata": {},
   "cell_type": "markdown",
   "source": "Обучение векторизатора bag of words и сохранение данных или загрузка готовых данных (если они уже есть)",
   "id": "d34818a040168c9e"
  },
  {
   "metadata": {
    "ExecuteTime": {
     "end_time": "2024-10-29T21:30:08.315637Z",
     "start_time": "2024-10-29T21:28:07.049629Z"
    }
   },
   "cell_type": "code",
   "source": [
    "x_train_bow_path = '../data/x_train_bow.npz'\n",
    "x_test_bow_path = '../data/x_test_bow.npz'\n",
    "\n",
    "if not (os.path.exists(x_train_bow_path) and os.path.exists(x_test_bow_path)):\n",
    "    bow = CountVectorizer(min_df=0.01, max_df=0.95, max_features=30000, ngram_range=(1, 2))\n",
    "    bow.fit(x_train)\n",
    "\n",
    "    x_train_bow = bow.transform(x_train)\n",
    "    x_train_bow = x_train_bow.astype(np.float32)\n",
    "    np.savez_compressed(x_train_bow_path, x_train_bow)\n",
    "\n",
    "    x_test_bow = bow.transform(x_test)\n",
    "    x_test_bow = x_test_bow.astype(np.float32)\n",
    "    np.savez_compressed(x_test_bow_path, x_test_bow)\n",
    "\n",
    "else:\n",
    "    x_train_bow = np.load(x_train_bow_path)\n",
    "    x_test_bow = np.load(x_test_bow_path)"
   ],
   "id": "4c0142eae3f12e84",
   "outputs": [],
   "execution_count": 7
  },
  {
   "metadata": {},
   "cell_type": "markdown",
   "source": "Обучение векторизатора tf-idf и сохранение данных или загрузка готовых данных (если они уже есть)",
   "id": "8ac1fec3aa7d4a86"
  },
  {
   "metadata": {
    "ExecuteTime": {
     "end_time": "2024-10-29T21:32:16.284246Z",
     "start_time": "2024-10-29T21:30:08.318640Z"
    }
   },
   "cell_type": "code",
   "source": [
    "x_train_tf_idf_path = '../data/x_train_tf_idf.npz'\n",
    "x_test_tf_idf_path = '../data/x_test_tf_idf.npz'\n",
    "\n",
    "if not (os.path.exists(x_train_tf_idf_path) and os.path.exists(x_test_tf_idf_path)):\n",
    "    tf_idf = TfidfVectorizer(min_df=0.01, max_df=0.95, max_features=30000, ngram_range=(1, 2))\n",
    "    tf_idf.fit(x_train)\n",
    "\n",
    "    x_train_tf_idf = tf_idf.transform(x_train)\n",
    "    x_train_word2vec = x_train_tf_idf.astype(np.float32)\n",
    "    np.savez_compressed(x_train_tf_idf_path, x_train_tf_idf)\n",
    "\n",
    "    x_test_tf_idf = tf_idf.transform(x_test)\n",
    "    x_test_tf_idf = x_test_tf_idf.astype(np.float32)\n",
    "    np.savez_compressed(x_test_tf_idf_path, x_test_tf_idf)\n",
    "\n",
    "else:\n",
    "    x_train_tf_idf = np.load(x_train_tf_idf_path)\n",
    "    x_test_tf_idf = np.load(x_test_tf_idf_path)"
   ],
   "id": "2f923d74feea7433",
   "outputs": [],
   "execution_count": 8
  },
  {
   "metadata": {},
   "cell_type": "markdown",
   "source": [
    "### Логистическая регрессия c tf-idf\n",
    "f1 на тренировочной - 0.69  \n",
    "f1 на тестовой - 0.69"
   ],
   "id": "1620d1f6cf686173"
  },
  {
   "metadata": {},
   "cell_type": "code",
   "source": [
    "logreg_tf_idf = optuna.create_study(study_name=\"logreg_tf_idf\", direction=\"maximize\",\n",
    "                                    sampler=TPESampler(), pruner=HyperbandPruner())\n",
    "\n",
    "\n",
    "def objective(trial):\n",
    "    C = trial.suggest_float('C', 0.0001, 15)\n",
    "    # multi_class = trial.suggest_categorical('multi_class', ['multinomial', 'ovr'])\n",
    "\n",
    "    # model = LogisticRegression(C=C, multi_class=multi_class, max_iter=2000)\n",
    "    model = LogisticRegression(C=C, max_iter=5000, class_weight=class_weights)\n",
    "\n",
    "    f1_scores = cross_val_score(model, x_train_tf_idf, y_train, cv=5, scoring='f1_macro')\n",
    "\n",
    "    return f1_scores.mean()\n",
    "\n",
    "\n",
    "logreg_tf_idf.optimize(objective, n_trials=10)"
   ],
   "id": "c9a7fa9ae7d36422",
   "outputs": [],
   "execution_count": null
  },
  {
   "metadata": {
    "ExecuteTime": {
     "end_time": "2024-10-29T21:47:06.375229Z",
     "start_time": "2024-10-29T21:46:58.024975Z"
    }
   },
   "cell_type": "code",
   "source": [
    "logreg_tf_idf_model = LogisticRegression(**logreg_tf_idf.best_params, max_iter=5000,\n",
    "                                         class_weight=class_weights)\n",
    "logreg_tf_idf_model.fit(x_train_tf_idf, y_train)\n",
    "evaluate_model(y_test, logreg_tf_idf_model.predict(x_test_tf_idf))"
   ],
   "id": "2d2a842c7086641f",
   "outputs": [
    {
     "data": {
      "text/plain": [
       "     Метрика  Значение\n",
       "0   Accuracy  0.693051\n",
       "1  Precision  0.696387\n",
       "2     Recall  0.710355\n",
       "3   F1 Score  0.692172"
      ],
      "text/html": [
       "<div>\n",
       "<style scoped>\n",
       "    .dataframe tbody tr th:only-of-type {\n",
       "        vertical-align: middle;\n",
       "    }\n",
       "\n",
       "    .dataframe tbody tr th {\n",
       "        vertical-align: top;\n",
       "    }\n",
       "\n",
       "    .dataframe thead th {\n",
       "        text-align: right;\n",
       "    }\n",
       "</style>\n",
       "<table border=\"1\" class=\"dataframe\">\n",
       "  <thead>\n",
       "    <tr style=\"text-align: right;\">\n",
       "      <th></th>\n",
       "      <th>Метрика</th>\n",
       "      <th>Значение</th>\n",
       "    </tr>\n",
       "  </thead>\n",
       "  <tbody>\n",
       "    <tr>\n",
       "      <th>0</th>\n",
       "      <td>Accuracy</td>\n",
       "      <td>0.693051</td>\n",
       "    </tr>\n",
       "    <tr>\n",
       "      <th>1</th>\n",
       "      <td>Precision</td>\n",
       "      <td>0.696387</td>\n",
       "    </tr>\n",
       "    <tr>\n",
       "      <th>2</th>\n",
       "      <td>Recall</td>\n",
       "      <td>0.710355</td>\n",
       "    </tr>\n",
       "    <tr>\n",
       "      <th>3</th>\n",
       "      <td>F1 Score</td>\n",
       "      <td>0.692172</td>\n",
       "    </tr>\n",
       "  </tbody>\n",
       "</table>\n",
       "</div>"
      ]
     },
     "execution_count": 12,
     "metadata": {},
     "output_type": "execute_result"
    }
   ],
   "execution_count": 12
  },
  {
   "metadata": {},
   "cell_type": "markdown",
   "source": "Сохраним модель",
   "id": "d0bc49d24230353d"
  },
  {
   "metadata": {
    "ExecuteTime": {
     "end_time": "2024-10-29T21:50:27.875650Z",
     "start_time": "2024-10-29T21:50:27.858270Z"
    }
   },
   "cell_type": "code",
   "source": "dump(logreg_tf_idf_model, '../models/logreg_tf_idf_model.joblib')",
   "id": "478d5cf18f8a5cd7",
   "outputs": [
    {
     "data": {
      "text/plain": [
       "['../models/logreg_tf_idf_model.joblib']"
      ]
     },
     "execution_count": 15,
     "metadata": {},
     "output_type": "execute_result"
    }
   ],
   "execution_count": 15
  },
  {
   "metadata": {},
   "cell_type": "markdown",
   "source": [
    "### Градиентный бустинг с bag of words  \n",
    "f1 на тренировочной - 0.719  \n",
    "f1 на тестовой - 0.72"
   ],
   "id": "35f2fdc470359104"
  },
  {
   "metadata": {},
   "cell_type": "code",
   "source": [
    "xgb_bow = optuna.create_study(study_name=\"xgb_bow\", direction=\"maximize\",\n",
    "                              sampler=TPESampler(), pruner=HyperbandPruner())\n",
    "\n",
    "\n",
    "def objective(trial):\n",
    "    learning_rate = trial.suggest_float('learning_rate', 0.01, 0.9)\n",
    "    n_estimators = trial.suggest_int('n_estimators', 50, 500)\n",
    "    max_depth = trial.suggest_int('max_depth', 3, 15)\n",
    "\n",
    "    model = XGBClassifier(learning_rate=learning_rate, n_estimators=n_estimators,\n",
    "                          max_depth=max_depth, n_jobs=4)\n",
    "\n",
    "    f1_scores = cross_val_score(model, x_train_bow, y_train, cv=5, scoring='f1_macro',\n",
    "                                params={'sample_weight': sample_weights})\n",
    "\n",
    "    return f1_scores.mean()\n",
    "\n",
    "\n",
    "xgb_bow.optimize(objective, n_trials=10)"
   ],
   "id": "a2a2bf425cb940b3",
   "outputs": [],
   "execution_count": null
  },
  {
   "metadata": {
    "ExecuteTime": {
     "end_time": "2024-10-29T21:50:00.875029Z",
     "start_time": "2024-10-29T21:47:30.641077Z"
    }
   },
   "cell_type": "code",
   "source": [
    "# Взяты из логов optuna для лучшей попытки, надо было перезагрузить jupyter\n",
    "best_params = {'learning_rate': 0.1506113744991435, 'n_estimators': 337, 'max_depth': 14}\n",
    "\n",
    "xgb_bow_model = XGBClassifier(**best_params, n_jobs=4)\n",
    "xgb_bow_model.fit(x_train_bow, y_train)\n",
    "evaluate_model(y_test, xgb_bow_model.predict(x_test_bow))"
   ],
   "id": "7e278033ff5e54a6",
   "outputs": [
    {
     "data": {
      "text/plain": [
       "     Метрика  Значение\n",
       "0   Accuracy  0.733055\n",
       "1  Precision  0.724450\n",
       "2     Recall  0.718184\n",
       "3   F1 Score  0.720614"
      ],
      "text/html": [
       "<div>\n",
       "<style scoped>\n",
       "    .dataframe tbody tr th:only-of-type {\n",
       "        vertical-align: middle;\n",
       "    }\n",
       "\n",
       "    .dataframe tbody tr th {\n",
       "        vertical-align: top;\n",
       "    }\n",
       "\n",
       "    .dataframe thead th {\n",
       "        text-align: right;\n",
       "    }\n",
       "</style>\n",
       "<table border=\"1\" class=\"dataframe\">\n",
       "  <thead>\n",
       "    <tr style=\"text-align: right;\">\n",
       "      <th></th>\n",
       "      <th>Метрика</th>\n",
       "      <th>Значение</th>\n",
       "    </tr>\n",
       "  </thead>\n",
       "  <tbody>\n",
       "    <tr>\n",
       "      <th>0</th>\n",
       "      <td>Accuracy</td>\n",
       "      <td>0.733055</td>\n",
       "    </tr>\n",
       "    <tr>\n",
       "      <th>1</th>\n",
       "      <td>Precision</td>\n",
       "      <td>0.724450</td>\n",
       "    </tr>\n",
       "    <tr>\n",
       "      <th>2</th>\n",
       "      <td>Recall</td>\n",
       "      <td>0.718184</td>\n",
       "    </tr>\n",
       "    <tr>\n",
       "      <th>3</th>\n",
       "      <td>F1 Score</td>\n",
       "      <td>0.720614</td>\n",
       "    </tr>\n",
       "  </tbody>\n",
       "</table>\n",
       "</div>"
      ]
     },
     "execution_count": 13,
     "metadata": {},
     "output_type": "execute_result"
    }
   ],
   "execution_count": 13
  },
  {
   "metadata": {},
   "cell_type": "markdown",
   "source": "Сохраним модель",
   "id": "c33271acb250ea89"
  },
  {
   "metadata": {
    "ExecuteTime": {
     "end_time": "2024-10-29T21:50:10.729980Z",
     "start_time": "2024-10-29T21:50:10.495281Z"
    }
   },
   "cell_type": "code",
   "source": "dump(xgb_bow_model, '../models/xgb_bow_model.joblib')",
   "id": "f63c5c7350e7b18",
   "outputs": [
    {
     "data": {
      "text/plain": [
       "['../models/xgb_bow_model.joblib']"
      ]
     },
     "execution_count": 14,
     "metadata": {},
     "output_type": "execute_result"
    }
   ],
   "execution_count": 14
  }
 ],
 "metadata": {
  "kernelspec": {
   "display_name": "Python 3",
   "language": "python",
   "name": "python3"
  },
  "language_info": {
   "codemirror_mode": {
    "name": "ipython",
    "version": 2
   },
   "file_extension": ".py",
   "mimetype": "text/x-python",
   "name": "python",
   "nbconvert_exporter": "python",
   "pygments_lexer": "ipython2",
   "version": "2.7.6"
  }
 },
 "nbformat": 4,
 "nbformat_minor": 5
}
