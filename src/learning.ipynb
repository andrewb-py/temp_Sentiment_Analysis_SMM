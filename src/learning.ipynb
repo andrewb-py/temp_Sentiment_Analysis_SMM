{
 "cells": [
  {
   "metadata": {},
   "cell_type": "markdown",
   "source": "## Машинное обучение",
   "id": "9149305444b6d95a"
  },
  {
   "metadata": {},
   "cell_type": "markdown",
   "source": "Необходимые импорты",
   "id": "d218c0459476ffd4"
  },
  {
   "metadata": {
    "ExecuteTime": {
     "end_time": "2024-11-01T00:50:26.599316Z",
     "start_time": "2024-11-01T00:50:24.736701Z"
    }
   },
   "cell_type": "code",
   "source": [
    "import os\n",
    "\n",
    "from joblib import dump  # Для сериализации моделей\n",
    "from data_load import raw_data_load  # Своя функция для загрузки данных\n",
    "\n",
    "import pandas as pd\n",
    "import numpy as np\n",
    "\n",
    "from sklearn.feature_extraction.text import TfidfVectorizer, CountVectorizer\n",
    "\n",
    "from sklearn.linear_model import LogisticRegression\n",
    "from xgboost import XGBClassifier\n",
    "\n",
    "# Для настройки гиперпараметров\n",
    "import optuna\n",
    "from optuna.samplers import TPESampler\n",
    "from optuna.pruners import HyperbandPruner\n",
    "\n",
    "from sklearn.model_selection import cross_val_score\n",
    "from sklearn.utils.class_weight import compute_class_weight\n",
    "\n",
    "from sklearn.metrics import precision_score, recall_score, f1_score, accuracy_score"
   ],
   "id": "a53744593cdba528",
   "outputs": [],
   "execution_count": 1
  },
  {
   "metadata": {},
   "cell_type": "markdown",
   "source": "Чтение предобработанных (в ноутбуке preprocessing) данных в датафреймы, отделение таргетов",
   "id": "d8f7b2298def434"
  },
  {
   "metadata": {
    "ExecuteTime": {
     "end_time": "2024-11-01T00:50:35.015292Z",
     "start_time": "2024-11-01T00:50:26.603519Z"
    }
   },
   "cell_type": "code",
   "source": [
    "data_dir = \"../data\"\n",
    "\n",
    "train = pd.read_csv(os.path.join(data_dir, \"prep_train.csv\"))\n",
    "test = pd.read_csv(os.path.join(data_dir, \"prep_test.csv\"))\n",
    "\n",
    "x_train = train['prep_text']\n",
    "y_train = train['sentiment']\n",
    "x_test = test['prep_text']\n",
    "y_test = test['sentiment']"
   ],
   "id": "fa80ced67abe9b41",
   "outputs": [],
   "execution_count": 2
  },
  {
   "metadata": {},
   "cell_type": "markdown",
   "source": "Вычислим веса классов",
   "id": "f53dbf1ad17e9398"
  },
  {
   "metadata": {
    "ExecuteTime": {
     "end_time": "2024-11-01T00:50:35.107233Z",
     "start_time": "2024-11-01T00:50:35.017290Z"
    }
   },
   "cell_type": "code",
   "source": [
    "array_class_weights = compute_class_weight(class_weight=\"balanced\",\n",
    "                                           classes=np.array([0, 1, 2]),\n",
    "                                           y=y_train)\n",
    "class_weights = dict(zip([0, 1, 2], array_class_weights))\n",
    "\n",
    "sample_weights = np.array([class_weights[sentiment] for sentiment in y_train])  # Для XGB"
   ],
   "id": "5b1cadcc88ef66c3",
   "outputs": [],
   "execution_count": 3
  },
  {
   "metadata": {},
   "cell_type": "markdown",
   "source": "Функция для оценки метрик",
   "id": "5c46a614eda550e2"
  },
  {
   "metadata": {
    "ExecuteTime": {
     "end_time": "2024-11-01T00:50:35.122503Z",
     "start_time": "2024-11-01T00:50:35.109235Z"
    }
   },
   "cell_type": "code",
   "source": [
    "def evaluate_model(y_test, y_pred) -> pd.DataFrame:\n",
    "    \"\"\"\n",
    "    Оценка метрик accuracy, precision, recall, f1-score на каждом классе с последующим усреднением\n",
    "    :param y_test: тестовые таргеты\n",
    "    :param y_pred: предсказанные таргеты\n",
    "    :return: \n",
    "    \"\"\"\n",
    "\n",
    "    accuracy = accuracy_score(y_test, y_pred)\n",
    "    precision = precision_score(y_test, y_pred, average='macro')\n",
    "    recall = recall_score(y_test, y_pred, average='macro')\n",
    "    f1 = f1_score(y_test, y_pred, average='macro')\n",
    "\n",
    "    metrics = {\n",
    "        'Метрика': ['Accuracy', 'Precision', 'Recall', 'F1 Score'],\n",
    "        'Значение': [accuracy, precision, recall, f1]\n",
    "    }\n",
    "\n",
    "    df_metrics = pd.DataFrame(metrics)\n",
    "\n",
    "    return df_metrics"
   ],
   "id": "661ed827a9f139a7",
   "outputs": [],
   "execution_count": 4
  },
  {
   "metadata": {},
   "cell_type": "markdown",
   "source": [
    "Были протестированы с bag of words и tf-idf такие модели как: логистическая регрессия, наивный \n",
    "байесовский классификатор, метод ближайших соседей, дерево решений, случайный лес, градиентный \n",
    "бустинг. С word2vec были протестированы логистическая регрессия и градиентный бустинг. Код с \n",
    "тестированием всех этих моделей можно найти в ветке \"Andrew\"(замечание: там метрики чуть хуже, \n",
    "из-за неправильных параметров векторизаторов)  \n",
    "\n",
    "Лучше всех себя показали:  \n",
    "градиентный бустинг с bag of words  \n",
    "логистическая регрессия с tf-idf"
   ],
   "id": "fe746499c7b69d79"
  },
  {
   "metadata": {},
   "cell_type": "markdown",
   "source": "Обучение векторизатора bag of words и векторизация данных",
   "id": "eda078b9b51a03d3"
  },
  {
   "metadata": {
    "ExecuteTime": {
     "end_time": "2024-11-01T00:52:25.908160Z",
     "start_time": "2024-11-01T00:50:35.125635Z"
    }
   },
   "cell_type": "code",
   "source": [
    "bow = CountVectorizer(max_features=30000, ngram_range=(1, 2))\n",
    "bow.fit(x_train)\n",
    "\n",
    "x_train_bow = bow.transform(x_train)\n",
    "x_test_bow = bow.transform(x_test)"
   ],
   "id": "4c0142eae3f12e84",
   "outputs": [],
   "execution_count": 5
  },
  {
   "metadata": {},
   "cell_type": "markdown",
   "source": "Обучение векторизатора tf-idf и векторизация данных",
   "id": "8ac1fec3aa7d4a86"
  },
  {
   "metadata": {
    "ExecuteTime": {
     "end_time": "2024-11-01T00:54:18.985231Z",
     "start_time": "2024-11-01T00:52:25.910159Z"
    }
   },
   "cell_type": "code",
   "source": [
    "tf_idf = TfidfVectorizer(max_features=30000, ngram_range=(1, 2))\n",
    "tf_idf.fit(x_train)\n",
    "\n",
    "x_train_tf_idf = tf_idf.transform(x_train)\n",
    "x_test_tf_idf = tf_idf.transform(x_test)"
   ],
   "id": "2f923d74feea7433",
   "outputs": [],
   "execution_count": 6
  },
  {
   "metadata": {},
   "cell_type": "markdown",
   "source": [
    "### Логистическая регрессия c tf-idf\n",
    "f1 на тренировочной - 0.746  \n",
    "f1 на тестовой - 0.751"
   ],
   "id": "1620d1f6cf686173"
  },
  {
   "metadata": {
    "ExecuteTime": {
     "end_time": "2024-11-01T01:29:56.529219Z",
     "start_time": "2024-11-01T01:01:38.413881Z"
    }
   },
   "cell_type": "code",
   "source": [
    "logreg_tf_idf = optuna.create_study(study_name=\"logreg_tf_idf\", direction=\"maximize\",\n",
    "                                    sampler=TPESampler(), pruner=HyperbandPruner())\n",
    "\n",
    "\n",
    "def objective(trial):\n",
    "    C = trial.suggest_float('C', 0.0001, 15)\n",
    "    model = LogisticRegression(C=C, max_iter=5000, class_weight=class_weights, random_state=42)\n",
    "\n",
    "    f1_scores = cross_val_score(model, x_train_tf_idf, y_train, cv=4, scoring='f1_macro')\n",
    "\n",
    "    return f1_scores.mean()\n",
    "\n",
    "\n",
    "logreg_tf_idf.optimize(objective, n_trials=10)"
   ],
   "id": "c9a7fa9ae7d36422",
   "outputs": [
    {
     "name": "stderr",
     "output_type": "stream",
     "text": [
      "[I 2024-11-01 04:01:38,418] A new study created in memory with name: logreg_tf_idf\n",
      "[I 2024-11-01 04:03:59,244] Trial 0 finished with value: 0.7412686085589424 and parameters: {'C': 4.100399169930521}. Best is trial 0 with value: 0.7412686085589424.\n",
      "[I 2024-11-01 04:07:33,568] Trial 1 finished with value: 0.7353146315973785 and parameters: {'C': 8.288003634597544}. Best is trial 0 with value: 0.7412686085589424.\n",
      "[I 2024-11-01 04:10:40,230] Trial 2 finished with value: 0.7345823687377299 and parameters: {'C': 8.916021539612306}. Best is trial 0 with value: 0.7412686085589424.\n",
      "[I 2024-11-01 04:12:31,876] Trial 3 finished with value: 0.7463210953461533 and parameters: {'C': 1.1765482129376392}. Best is trial 3 with value: 0.7463210953461533.\n",
      "[I 2024-11-01 04:16:19,562] Trial 4 finished with value: 0.7304162471255756 and parameters: {'C': 14.046519031259857}. Best is trial 3 with value: 0.7463210953461533.\n",
      "[I 2024-11-01 04:19:10,757] Trial 5 finished with value: 0.7391852675286782 and parameters: {'C': 5.597766795064685}. Best is trial 3 with value: 0.7463210953461533.\n",
      "[I 2024-11-01 04:22:20,895] Trial 6 finished with value: 0.7312921817982575 and parameters: {'C': 13.016588203630604}. Best is trial 3 with value: 0.7463210953461533.\n",
      "[I 2024-11-01 04:24:25,210] Trial 7 finished with value: 0.7415405979473618 and parameters: {'C': 3.9061819780072575}. Best is trial 3 with value: 0.7463210953461533.\n",
      "[I 2024-11-01 04:27:39,220] Trial 8 finished with value: 0.7318389227931134 and parameters: {'C': 12.10208655522884}. Best is trial 3 with value: 0.7463210953461533.\n",
      "[I 2024-11-01 04:29:56,508] Trial 9 finished with value: 0.7447658527234452 and parameters: {'C': 2.613016980291696}. Best is trial 3 with value: 0.7463210953461533.\n"
     ]
    }
   ],
   "execution_count": 10
  },
  {
   "metadata": {
    "ExecuteTime": {
     "end_time": "2024-11-01T01:30:37.950389Z",
     "start_time": "2024-11-01T01:29:56.536417Z"
    }
   },
   "cell_type": "code",
   "source": [
    "logreg_tf_idf_model = LogisticRegression(**logreg_tf_idf.best_params, max_iter=5000,\n",
    "                                         class_weight=class_weights, random_state=42)\n",
    "logreg_tf_idf_model.fit(x_train_tf_idf, y_train)\n",
    "evaluate_model(y_test, logreg_tf_idf_model.predict(x_test_tf_idf))"
   ],
   "id": "2d2a842c7086641f",
   "outputs": [
    {
     "data": {
      "text/plain": [
       "     Метрика  Значение\n",
       "0   Accuracy  0.753377\n",
       "1  Precision  0.749077\n",
       "2     Recall  0.763997\n",
       "3   F1 Score  0.750754"
      ],
      "text/html": [
       "<div>\n",
       "<style scoped>\n",
       "    .dataframe tbody tr th:only-of-type {\n",
       "        vertical-align: middle;\n",
       "    }\n",
       "\n",
       "    .dataframe tbody tr th {\n",
       "        vertical-align: top;\n",
       "    }\n",
       "\n",
       "    .dataframe thead th {\n",
       "        text-align: right;\n",
       "    }\n",
       "</style>\n",
       "<table border=\"1\" class=\"dataframe\">\n",
       "  <thead>\n",
       "    <tr style=\"text-align: right;\">\n",
       "      <th></th>\n",
       "      <th>Метрика</th>\n",
       "      <th>Значение</th>\n",
       "    </tr>\n",
       "  </thead>\n",
       "  <tbody>\n",
       "    <tr>\n",
       "      <th>0</th>\n",
       "      <td>Accuracy</td>\n",
       "      <td>0.753377</td>\n",
       "    </tr>\n",
       "    <tr>\n",
       "      <th>1</th>\n",
       "      <td>Precision</td>\n",
       "      <td>0.749077</td>\n",
       "    </tr>\n",
       "    <tr>\n",
       "      <th>2</th>\n",
       "      <td>Recall</td>\n",
       "      <td>0.763997</td>\n",
       "    </tr>\n",
       "    <tr>\n",
       "      <th>3</th>\n",
       "      <td>F1 Score</td>\n",
       "      <td>0.750754</td>\n",
       "    </tr>\n",
       "  </tbody>\n",
       "</table>\n",
       "</div>"
      ]
     },
     "execution_count": 11,
     "metadata": {},
     "output_type": "execute_result"
    }
   ],
   "execution_count": 11
  },
  {
   "metadata": {},
   "cell_type": "markdown",
   "source": "Сохраним модель",
   "id": "d0bc49d24230353d"
  },
  {
   "metadata": {
    "ExecuteTime": {
     "end_time": "2024-11-01T01:30:37.980879Z",
     "start_time": "2024-11-01T01:30:37.952549Z"
    }
   },
   "cell_type": "code",
   "source": "dump(logreg_tf_idf_model, '../models/logreg_tf_idf_model.joblib')",
   "id": "478d5cf18f8a5cd7",
   "outputs": [
    {
     "data": {
      "text/plain": [
       "['../models/logreg_tf_idf_model.joblib']"
      ]
     },
     "execution_count": 12,
     "metadata": {},
     "output_type": "execute_result"
    }
   ],
   "execution_count": 12
  },
  {
   "metadata": {},
   "cell_type": "markdown",
   "source": [
    "### Градиентный бустинг с bag of words  \n",
    "f1 на тренировочной - 0.75  \n",
    "f1 на тестовой - 0.753"
   ],
   "id": "35f2fdc470359104"
  },
  {
   "metadata": {
    "ExecuteTime": {
     "end_time": "2024-11-01T04:48:18.535058Z",
     "start_time": "2024-11-01T01:30:37.987023Z"
    }
   },
   "cell_type": "code",
   "source": [
    "xgb_bow = optuna.create_study(study_name=\"xgb_bow\", direction=\"maximize\",\n",
    "                              sampler=TPESampler(), pruner=HyperbandPruner())\n",
    "\n",
    "\n",
    "def objective(trial):\n",
    "    learning_rate = trial.suggest_float('learning_rate', 0.01, 0.9)\n",
    "    n_estimators = trial.suggest_int('n_estimators', 100, 400)\n",
    "    max_depth = trial.suggest_int('max_depth', 3, 15)\n",
    "\n",
    "    model = XGBClassifier(learning_rate=learning_rate, n_estimators=n_estimators,\n",
    "                          max_depth=max_depth, n_jobs=4, random_state=42)\n",
    "\n",
    "    f1_scores = cross_val_score(model, x_train_bow, y_train, cv=4, scoring='f1_macro',\n",
    "                                params={'sample_weight': sample_weights})\n",
    "\n",
    "    return f1_scores.mean()\n",
    "\n",
    "\n",
    "xgb_bow.optimize(objective, n_trials=10)"
   ],
   "id": "a2a2bf425cb940b3",
   "outputs": [
    {
     "name": "stderr",
     "output_type": "stream",
     "text": [
      "[I 2024-11-01 04:30:39,493] A new study created in memory with name: xgb_bow\n",
      "[I 2024-11-01 04:57:21,995] Trial 0 finished with value: 0.7006584625441592 and parameters: {'learning_rate': 0.04694872274805431, 'n_estimators': 263, 'max_depth': 10}. Best is trial 0 with value: 0.7006584625441592.\n",
      "[I 2024-11-01 05:06:34,410] Trial 1 finished with value: 0.6539050752610619 and parameters: {'learning_rate': 0.03350275063700577, 'n_estimators': 121, 'max_depth': 8}. Best is trial 0 with value: 0.7006584625441592.\n",
      "[I 2024-11-01 05:09:28,609] Trial 2 finished with value: 0.7176965561430141 and parameters: {'learning_rate': 0.4898393345998856, 'n_estimators': 286, 'max_depth': 3}. Best is trial 2 with value: 0.7176965561430141.\n",
      "[I 2024-11-01 05:35:14,079] Trial 3 finished with value: 0.7460631573772633 and parameters: {'learning_rate': 0.32992847308014456, 'n_estimators': 274, 'max_depth': 13}. Best is trial 3 with value: 0.7460631573772633.\n",
      "[I 2024-11-01 05:56:57,775] Trial 4 finished with value: 0.7326674530941854 and parameters: {'learning_rate': 0.1837450008425951, 'n_estimators': 197, 'max_depth': 12}. Best is trial 3 with value: 0.7460631573772633.\n",
      "[I 2024-11-01 06:12:57,964] Trial 5 finished with value: 0.7312160400503432 and parameters: {'learning_rate': 0.1531002619615049, 'n_estimators': 386, 'max_depth': 8}. Best is trial 3 with value: 0.7460631573772633.\n",
      "[I 2024-11-01 06:24:19,208] Trial 6 finished with value: 0.7409310468049177 and parameters: {'learning_rate': 0.3763737964616757, 'n_estimators': 310, 'max_depth': 8}. Best is trial 3 with value: 0.7460631573772633.\n",
      "[I 2024-11-01 06:35:06,797] Trial 7 finished with value: 0.739751786968827 and parameters: {'learning_rate': 0.7160990284757238, 'n_estimators': 195, 'max_depth': 10}. Best is trial 3 with value: 0.7460631573772633.\n",
      "[I 2024-11-01 07:06:06,413] Trial 8 finished with value: 0.747341821973924 and parameters: {'learning_rate': 0.4259061626387788, 'n_estimators': 332, 'max_depth': 14}. Best is trial 8 with value: 0.747341821973924.\n",
      "[I 2024-11-01 07:48:18,456] Trial 9 finished with value: 0.7492227165916294 and parameters: {'learning_rate': 0.27188975398025395, 'n_estimators': 365, 'max_depth': 15}. Best is trial 9 with value: 0.7492227165916294.\n"
     ]
    }
   ],
   "execution_count": 13
  },
  {
   "metadata": {
    "ExecuteTime": {
     "end_time": "2024-11-01T05:01:27.570623Z",
     "start_time": "2024-11-01T04:48:18.550683Z"
    }
   },
   "cell_type": "code",
   "source": [
    "xgb_bow_model = XGBClassifier(**xgb_bow.best_params, n_jobs=4, random_state=42)\n",
    "xgb_bow_model.fit(x_train_bow, y_train)\n",
    "evaluate_model(y_test, xgb_bow_model.predict(x_test_bow))"
   ],
   "id": "7e278033ff5e54a6",
   "outputs": [
    {
     "data": {
      "text/plain": [
       "     Метрика  Значение\n",
       "0   Accuracy  0.763568\n",
       "1  Precision  0.756233\n",
       "2     Recall  0.750920\n",
       "3   F1 Score  0.753125"
      ],
      "text/html": [
       "<div>\n",
       "<style scoped>\n",
       "    .dataframe tbody tr th:only-of-type {\n",
       "        vertical-align: middle;\n",
       "    }\n",
       "\n",
       "    .dataframe tbody tr th {\n",
       "        vertical-align: top;\n",
       "    }\n",
       "\n",
       "    .dataframe thead th {\n",
       "        text-align: right;\n",
       "    }\n",
       "</style>\n",
       "<table border=\"1\" class=\"dataframe\">\n",
       "  <thead>\n",
       "    <tr style=\"text-align: right;\">\n",
       "      <th></th>\n",
       "      <th>Метрика</th>\n",
       "      <th>Значение</th>\n",
       "    </tr>\n",
       "  </thead>\n",
       "  <tbody>\n",
       "    <tr>\n",
       "      <th>0</th>\n",
       "      <td>Accuracy</td>\n",
       "      <td>0.763568</td>\n",
       "    </tr>\n",
       "    <tr>\n",
       "      <th>1</th>\n",
       "      <td>Precision</td>\n",
       "      <td>0.756233</td>\n",
       "    </tr>\n",
       "    <tr>\n",
       "      <th>2</th>\n",
       "      <td>Recall</td>\n",
       "      <td>0.750920</td>\n",
       "    </tr>\n",
       "    <tr>\n",
       "      <th>3</th>\n",
       "      <td>F1 Score</td>\n",
       "      <td>0.753125</td>\n",
       "    </tr>\n",
       "  </tbody>\n",
       "</table>\n",
       "</div>"
      ]
     },
     "execution_count": 14,
     "metadata": {},
     "output_type": "execute_result"
    }
   ],
   "execution_count": 14
  },
  {
   "metadata": {},
   "cell_type": "markdown",
   "source": "Сохраним модель",
   "id": "c33271acb250ea89"
  },
  {
   "metadata": {
    "ExecuteTime": {
     "end_time": "2024-11-01T05:01:27.742493Z",
     "start_time": "2024-11-01T05:01:27.570623Z"
    }
   },
   "cell_type": "code",
   "source": "dump(xgb_bow_model, '../models/xgb_bow_model.joblib')",
   "id": "f63c5c7350e7b18",
   "outputs": [
    {
     "data": {
      "text/plain": [
       "['../models/xgb_bow_model.joblib']"
      ]
     },
     "execution_count": 15,
     "metadata": {},
     "output_type": "execute_result"
    }
   ],
   "execution_count": 15
  }
 ],
 "metadata": {
  "kernelspec": {
   "display_name": "Python 3",
   "language": "python",
   "name": "python3"
  },
  "language_info": {
   "codemirror_mode": {
    "name": "ipython",
    "version": 2
   },
   "file_extension": ".py",
   "mimetype": "text/x-python",
   "name": "python",
   "nbconvert_exporter": "python",
   "pygments_lexer": "ipython2",
   "version": "2.7.6"
  }
 },
 "nbformat": 4,
 "nbformat_minor": 5
}
