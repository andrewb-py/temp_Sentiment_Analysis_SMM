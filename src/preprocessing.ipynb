{
 "cells": [
  {
   "metadata": {},
   "cell_type": "markdown",
   "source": "## Предобработка",
   "id": "f6db50328b0e7181"
  },
  {
   "metadata": {},
   "cell_type": "markdown",
   "source": "Функции предобработки для одного документа и для всего корпуса",
   "id": "4c72558bf7b600d7"
  },
  {
   "metadata": {
    "ExecuteTime": {
     "end_time": "2024-10-29T21:01:43.812612Z",
     "start_time": "2024-10-29T21:01:43.796293Z"
    }
   },
   "cell_type": "code",
   "source": [
    "import os\n",
    "from tqdm.notebook import tqdm\n",
    "import warnings\n",
    "\n",
    "import numpy as np\n",
    "import pandas as pd\n",
    "\n",
    "import nltk\n",
    "from nltk.corpus import stopwords\n",
    "import re\n",
    "from pymorphy3 import MorphAnalyzer"
   ],
   "id": "23ebeef166064b7a",
   "outputs": [],
   "execution_count": 4
  },
  {
   "cell_type": "code",
   "id": "48b34de30290d75b",
   "metadata": {
    "collapsed": true
   },
   "source": [
    "morph = MorphAnalyzer()\n",
    "nltk.download('stopwords')  # Будут предупреждения, если пакет уже загружен - это нормально\n",
    "stop_words = set(stopwords.words('russian'))\n",
    "\n",
    "\n",
    "def preprocess_text(text: str) -> list[str]:\n",
    "    \"\"\"\n",
    "    Предобработка текста для сентимент-анализа: удаление стоп-слов и лишних символов,\n",
    "    лемматизация, токенизация\n",
    "    :param text: Текст, который надо обработать\n",
    "    :return: Список обработанных токенов\n",
    "    \"\"\"\n",
    "\n",
    "    text = text.lower()\n",
    "    text = re.sub(r'[^а-яёЁ?!-+0-9\\s]', '', text)\n",
    "    text = text.replace('!', ' ! ').replace('!?', ' !? ')\n",
    "    text = re.sub(r'[()\\[\\]{}]', '', text)\n",
    "\n",
    "    tokens = text.split()\n",
    "    tokens = [morph.parse(token)[0].normal_form for token in tokens if token not in stop_words]\n",
    "    return tokens\n",
    "\n",
    "\n",
    "def preprocess(dataset: pd.DataFrame) -> None:\n",
    "    \"\"\"\n",
    "    Создание дополнительного признака в датасете - результат применения preprocess_text к тексту.\n",
    "    :param dataset: Датасет, который надо обработать\n",
    "    :return: None\n",
    "    \"\"\"\n",
    "\n",
    "    tqdm.pandas(desc=\"Обработка датасета\")\n",
    "\n",
    "    dataset[\"prep_text\"] = dataset[\"text\"].progress_apply(preprocess_text)\n",
    "\n",
    "    return None"
   ],
   "outputs": [],
   "execution_count": null
  },
  {
   "metadata": {},
   "cell_type": "markdown",
   "source": "Применение функции предобработки к датасетам и их сохранение в зависимости от того, было ли это сделано ранее.",
   "id": "e1cc309877edb578"
  },
  {
   "metadata": {
    "ExecuteTime": {
     "end_time": "2024-10-29T21:01:53.940272Z",
     "start_time": "2024-10-29T21:01:44.106736Z"
    }
   },
   "cell_type": "code",
   "source": [
    "data_dir = \"../data\"\n",
    "\n",
    "prep_train_path = os.path.join(data_dir, 'prep_train.csv')\n",
    "prep_test_path = os.path.join(data_dir, 'prep_test.csv')\n",
    "\n",
    "if not os.path.exists(prep_train_path):\n",
    "    print(\"Обработка тренировочного датасета\")\n",
    "    preprocess(train)\n",
    "    train.to_csv(prep_train_path, index=False)  # Сохранение обработанных данных\n",
    "    print(f\"Обработанные тренировочные данные сохранены\")\n",
    "\n",
    "if not os.path.exists(prep_test_path):\n",
    "    print(\"Обработка тестового датасета\")\n",
    "    preprocess(test)\n",
    "    test.to_csv(prep_test_path, index=False)  # Сохранение обработанных данных\n",
    "    print(f\"Обработанные тестовые данные сохранены\")\n",
    "\n",
    "prep_train = pd.read_csv(os.path.join(data_dir, 'prep_train.csv'))\n",
    "prep_test = pd.read_csv(os.path.join(data_dir, 'prep_test.csv'))"
   ],
   "id": "initial_id",
   "outputs": [],
   "execution_count": 6
  }
 ],
 "metadata": {
  "kernelspec": {
   "display_name": "Python 3",
   "language": "python",
   "name": "python3"
  },
  "language_info": {
   "codemirror_mode": {
    "name": "ipython",
    "version": 2
   },
   "file_extension": ".py",
   "mimetype": "text/x-python",
   "name": "python",
   "nbconvert_exporter": "python",
   "pygments_lexer": "ipython2",
   "version": "2.7.6"
  }
 },
 "nbformat": 4,
 "nbformat_minor": 5
}
