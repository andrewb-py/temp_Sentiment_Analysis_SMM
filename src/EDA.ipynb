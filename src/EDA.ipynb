{
 "cells": [
  {
   "metadata": {},
   "cell_type": "markdown",
   "source": "## EDA",
   "id": "2b3cea05211ef6d2"
  },
  {
   "metadata": {},
   "cell_type": "markdown",
   "source": "Необходимые импорты",
   "id": "f28df3b9df0e39de"
  },
  {
   "metadata": {
    "ExecuteTime": {
     "end_time": "2024-10-31T18:33:23.608613Z",
     "start_time": "2024-10-31T18:33:22.980603Z"
    }
   },
   "cell_type": "code",
   "source": [
    "import pandas as pd\n",
    "import numpy as np\n",
    "\n",
    "from data_load import raw_data_load"
   ],
   "id": "cebab25f1394e298",
   "outputs": [],
   "execution_count": 1
  },
  {
   "metadata": {},
   "cell_type": "markdown",
   "source": "Загрузка исходных данных в датафреймы",
   "id": "a717f73b42356285"
  },
  {
   "metadata": {
    "ExecuteTime": {
     "end_time": "2024-10-31T18:33:28.522953Z",
     "start_time": "2024-10-31T18:33:23.608613Z"
    }
   },
   "cell_type": "code",
   "source": "train, test = raw_data_load()",
   "id": "45894d5633f74ead",
   "outputs": [],
   "execution_count": 2
  },
  {
   "metadata": {},
   "cell_type": "markdown",
   "source": "Посмотрим на данные. 0 - нейтральный, 1 - позитивный, 2 - негативный",
   "id": "62eae1fc2014addb"
  },
  {
   "metadata": {
    "ExecuteTime": {
     "end_time": "2024-10-31T18:33:28.554202Z",
     "start_time": "2024-10-31T18:33:28.522953Z"
    }
   },
   "cell_type": "code",
   "source": "train.head(5)",
   "id": "594dfaf9a664d9db",
   "outputs": [
    {
     "data": {
      "text/plain": [
       "   Unnamed: 0                                               text  sentiment\n",
       "0       21098  .с.,и спросил его:  о Посланник Аллаха!Ты пори...          1\n",
       "1       21099  Роднее всех родных Попала я в ГКБ №8 еще в дек...          1\n",
       "2       21100  Непорядочное отношение к своим работникам Рабо...          2\n",
       "3       21101  ). Отсутствуют нормативы, Госты и прочее, что ...          1\n",
       "4       21102             У меня машина в руках 5 лет и это п...          1"
      ],
      "text/html": [
       "<div>\n",
       "<style scoped>\n",
       "    .dataframe tbody tr th:only-of-type {\n",
       "        vertical-align: middle;\n",
       "    }\n",
       "\n",
       "    .dataframe tbody tr th {\n",
       "        vertical-align: top;\n",
       "    }\n",
       "\n",
       "    .dataframe thead th {\n",
       "        text-align: right;\n",
       "    }\n",
       "</style>\n",
       "<table border=\"1\" class=\"dataframe\">\n",
       "  <thead>\n",
       "    <tr style=\"text-align: right;\">\n",
       "      <th></th>\n",
       "      <th>Unnamed: 0</th>\n",
       "      <th>text</th>\n",
       "      <th>sentiment</th>\n",
       "    </tr>\n",
       "  </thead>\n",
       "  <tbody>\n",
       "    <tr>\n",
       "      <th>0</th>\n",
       "      <td>21098</td>\n",
       "      <td>.с.,и спросил его:  о Посланник Аллаха!Ты пори...</td>\n",
       "      <td>1</td>\n",
       "    </tr>\n",
       "    <tr>\n",
       "      <th>1</th>\n",
       "      <td>21099</td>\n",
       "      <td>Роднее всех родных Попала я в ГКБ №8 еще в дек...</td>\n",
       "      <td>1</td>\n",
       "    </tr>\n",
       "    <tr>\n",
       "      <th>2</th>\n",
       "      <td>21100</td>\n",
       "      <td>Непорядочное отношение к своим работникам Рабо...</td>\n",
       "      <td>2</td>\n",
       "    </tr>\n",
       "    <tr>\n",
       "      <th>3</th>\n",
       "      <td>21101</td>\n",
       "      <td>). Отсутствуют нормативы, Госты и прочее, что ...</td>\n",
       "      <td>1</td>\n",
       "    </tr>\n",
       "    <tr>\n",
       "      <th>4</th>\n",
       "      <td>21102</td>\n",
       "      <td>У меня машина в руках 5 лет и это п...</td>\n",
       "      <td>1</td>\n",
       "    </tr>\n",
       "  </tbody>\n",
       "</table>\n",
       "</div>"
      ]
     },
     "execution_count": 3,
     "metadata": {},
     "output_type": "execute_result"
    }
   ],
   "execution_count": 3
  },
  {
   "metadata": {},
   "cell_type": "markdown",
   "source": "Можно отбросить признак Unnamed: 0",
   "id": "a53a0dad869b7031"
  },
  {
   "metadata": {
    "ExecuteTime": {
     "end_time": "2024-10-31T18:33:28.592986Z",
     "start_time": "2024-10-31T18:33:28.561740Z"
    }
   },
   "cell_type": "code",
   "source": [
    "train.drop(columns=[\"Unnamed: 0\"], inplace=True)\n",
    "test.drop(columns=[\"Unnamed: 0\"], inplace=True)"
   ],
   "id": "3667ad3454553628",
   "outputs": [],
   "execution_count": 4
  },
  {
   "metadata": {
    "ExecuteTime": {
     "end_time": "2024-10-31T18:33:30.419933Z",
     "start_time": "2024-10-31T18:33:28.592986Z"
    }
   },
   "cell_type": "code",
   "source": "train.nunique()",
   "id": "4233220f94da9238",
   "outputs": [
    {
     "data": {
      "text/plain": [
       "text         181103\n",
       "sentiment         3\n",
       "dtype: int64"
      ]
     },
     "execution_count": 5,
     "metadata": {},
     "output_type": "execute_result"
    }
   ],
   "execution_count": 5
  },
  {
   "metadata": {
    "ExecuteTime": {
     "end_time": "2024-10-31T18:33:30.471217Z",
     "start_time": "2024-10-31T18:33:30.419933Z"
    }
   },
   "cell_type": "code",
   "source": [
    "missing_values_train = train.isnull().sum()\n",
    "missing_values_test = test.isnull().sum()\n",
    "\n",
    "print(f'Количество пропусков в обучающем датасете:\\n{missing_values_train}\\n')\n",
    "print(f'Количество пропусков в тестовом датасете:\\n{missing_values_test}')"
   ],
   "id": "3a05809142df69b1",
   "outputs": [
    {
     "name": "stdout",
     "output_type": "stream",
     "text": [
      "Количество пропусков в обучающем датасете:\n",
      "text         0\n",
      "sentiment    0\n",
      "dtype: int64\n",
      "\n",
      "Количество пропусков в тестовом датасете:\n",
      "text         0\n",
      "sentiment    0\n",
      "dtype: int64\n"
     ]
    }
   ],
   "execution_count": 6
  },
  {
   "metadata": {
    "ExecuteTime": {
     "end_time": "2024-10-31T18:33:30.486842Z",
     "start_time": "2024-10-31T18:33:30.471217Z"
    }
   },
   "cell_type": "code",
   "source": [
    "print('Процентное содержание классов для обучающего датасета:\\n', train['sentiment'].value_counts(normalize=True) * 100, '\\n') \n",
    "print('Процентное содержание классов для тестового датасета:\\n', test['sentiment'].value_counts(normalize=True) * 100)   "
   ],
   "id": "847e78b585fa5610",
   "outputs": [
    {
     "name": "stdout",
     "output_type": "stream",
     "text": [
      "Процентное содержание классов для обучающего датасета:\n",
      " sentiment\n",
      "1    47.799000\n",
      "2    26.224518\n",
      "0    25.976481\n",
      "Name: proportion, dtype: float64 \n",
      "\n",
      "Процентное содержание классов для тестового датасета:\n",
      " sentiment\n",
      "1    47.521092\n",
      "0    26.353209\n",
      "2    26.125699\n",
      "Name: proportion, dtype: float64\n"
     ]
    }
   ],
   "execution_count": 7
  },
  {
   "metadata": {
    "ExecuteTime": {
     "end_time": "2024-10-31T18:33:30.600918Z",
     "start_time": "2024-10-31T18:33:30.486842Z"
    }
   },
   "cell_type": "code",
   "source": [
    "print(\"Статистика длины текстов\")\n",
    "train['text_length'] = train['text'].apply(len)\n",
    "print(train['text_length'].describe())"
   ],
   "id": "8a8f71c747c67c66",
   "outputs": [
    {
     "name": "stdout",
     "output_type": "stream",
     "text": [
      "Статистика длины текстов\n",
      "count    189891.000000\n",
      "mean        800.320020\n",
      "std        1951.543585\n",
      "min           3.000000\n",
      "25%         278.000000\n",
      "50%         503.000000\n",
      "75%         909.000000\n",
      "max      381498.000000\n",
      "Name: text_length, dtype: float64\n"
     ]
    }
   ],
   "execution_count": 8
  },
  {
   "metadata": {},
   "cell_type": "markdown",
   "source": [
    "Видим - с данными все в порядке, пропусков нет.  \n",
    "Длина среднего текста - 800 символов.  \n",
    "Отметим несбалансированность положительных примеров."
   ],
   "id": "88d653db5d845ec4"
  }
 ],
 "metadata": {
  "kernelspec": {
   "display_name": "Python 3",
   "language": "python",
   "name": "python3"
  },
  "language_info": {
   "codemirror_mode": {
    "name": "ipython",
    "version": 2
   },
   "file_extension": ".py",
   "mimetype": "text/x-python",
   "name": "python",
   "nbconvert_exporter": "python",
   "pygments_lexer": "ipython2",
   "version": "2.7.6"
  }
 },
 "nbformat": 4,
 "nbformat_minor": 5
}
